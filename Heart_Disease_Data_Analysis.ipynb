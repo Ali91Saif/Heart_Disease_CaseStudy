{
 "cells": [
  {
   "cell_type": "markdown",
   "metadata": {
    "id": "pBvp6WxC_nsF"
   },
   "source": [
    "# Importing Required Libraries"
   ]
  },
  {
   "cell_type": "code",
   "execution_count": 1,
   "metadata": {
    "id": "WeO9clld_R3x"
   },
   "outputs": [],
   "source": [
    "import numpy as np\n",
    "import pandas as pd\n",
    "import matplotlib.pyplot as plt\n",
    "import seaborn as sns\n",
    "\n",
    "import warnings\n",
    "warnings.filterwarnings('ignore')"
   ]
  },
  {
   "cell_type": "markdown",
   "metadata": {
    "id": "W8YATYmxASo8"
   },
   "source": [
    "# Reading Data"
   ]
  },
  {
   "cell_type": "code",
   "execution_count": 2,
   "metadata": {
    "id": "1v0mLq2X_7EP"
   },
   "outputs": [
    {
     "data": {
      "text/html": [
       "<div>\n",
       "<style scoped>\n",
       "    .dataframe tbody tr th:only-of-type {\n",
       "        vertical-align: middle;\n",
       "    }\n",
       "\n",
       "    .dataframe tbody tr th {\n",
       "        vertical-align: top;\n",
       "    }\n",
       "\n",
       "    .dataframe thead th {\n",
       "        text-align: right;\n",
       "    }\n",
       "</style>\n",
       "<table border=\"1\" class=\"dataframe\">\n",
       "  <thead>\n",
       "    <tr style=\"text-align: right;\">\n",
       "      <th></th>\n",
       "      <th>age</th>\n",
       "      <th>sex</th>\n",
       "      <th>cp</th>\n",
       "      <th>trtbps</th>\n",
       "      <th>chol</th>\n",
       "      <th>fbs</th>\n",
       "      <th>restecg</th>\n",
       "      <th>thalachh</th>\n",
       "      <th>exng</th>\n",
       "      <th>oldpeak</th>\n",
       "      <th>slp</th>\n",
       "      <th>caa</th>\n",
       "      <th>thall</th>\n",
       "      <th>output</th>\n",
       "    </tr>\n",
       "  </thead>\n",
       "  <tbody>\n",
       "    <tr>\n",
       "      <th>0</th>\n",
       "      <td>63</td>\n",
       "      <td>1</td>\n",
       "      <td>3</td>\n",
       "      <td>145</td>\n",
       "      <td>233</td>\n",
       "      <td>1</td>\n",
       "      <td>0</td>\n",
       "      <td>150</td>\n",
       "      <td>0</td>\n",
       "      <td>2.3</td>\n",
       "      <td>0</td>\n",
       "      <td>0</td>\n",
       "      <td>1</td>\n",
       "      <td>1</td>\n",
       "    </tr>\n",
       "    <tr>\n",
       "      <th>1</th>\n",
       "      <td>37</td>\n",
       "      <td>1</td>\n",
       "      <td>2</td>\n",
       "      <td>130</td>\n",
       "      <td>250</td>\n",
       "      <td>0</td>\n",
       "      <td>1</td>\n",
       "      <td>187</td>\n",
       "      <td>0</td>\n",
       "      <td>3.5</td>\n",
       "      <td>0</td>\n",
       "      <td>0</td>\n",
       "      <td>2</td>\n",
       "      <td>1</td>\n",
       "    </tr>\n",
       "    <tr>\n",
       "      <th>2</th>\n",
       "      <td>41</td>\n",
       "      <td>0</td>\n",
       "      <td>1</td>\n",
       "      <td>130</td>\n",
       "      <td>204</td>\n",
       "      <td>0</td>\n",
       "      <td>0</td>\n",
       "      <td>172</td>\n",
       "      <td>0</td>\n",
       "      <td>1.4</td>\n",
       "      <td>2</td>\n",
       "      <td>0</td>\n",
       "      <td>2</td>\n",
       "      <td>1</td>\n",
       "    </tr>\n",
       "    <tr>\n",
       "      <th>3</th>\n",
       "      <td>56</td>\n",
       "      <td>1</td>\n",
       "      <td>1</td>\n",
       "      <td>120</td>\n",
       "      <td>236</td>\n",
       "      <td>0</td>\n",
       "      <td>1</td>\n",
       "      <td>178</td>\n",
       "      <td>0</td>\n",
       "      <td>0.8</td>\n",
       "      <td>2</td>\n",
       "      <td>0</td>\n",
       "      <td>2</td>\n",
       "      <td>1</td>\n",
       "    </tr>\n",
       "    <tr>\n",
       "      <th>4</th>\n",
       "      <td>57</td>\n",
       "      <td>0</td>\n",
       "      <td>0</td>\n",
       "      <td>120</td>\n",
       "      <td>354</td>\n",
       "      <td>0</td>\n",
       "      <td>1</td>\n",
       "      <td>163</td>\n",
       "      <td>1</td>\n",
       "      <td>0.6</td>\n",
       "      <td>2</td>\n",
       "      <td>0</td>\n",
       "      <td>2</td>\n",
       "      <td>1</td>\n",
       "    </tr>\n",
       "  </tbody>\n",
       "</table>\n",
       "</div>"
      ],
      "text/plain": [
       "   age  sex  cp  trtbps  chol  fbs  restecg  thalachh  exng  oldpeak  slp  \\\n",
       "0   63    1   3     145   233    1        0       150     0      2.3    0   \n",
       "1   37    1   2     130   250    0        1       187     0      3.5    0   \n",
       "2   41    0   1     130   204    0        0       172     0      1.4    2   \n",
       "3   56    1   1     120   236    0        1       178     0      0.8    2   \n",
       "4   57    0   0     120   354    0        1       163     1      0.6    2   \n",
       "\n",
       "   caa  thall  output  \n",
       "0    0      1       1  \n",
       "1    0      2       1  \n",
       "2    0      2       1  \n",
       "3    0      2       1  \n",
       "4    0      2       1  "
      ]
     },
     "execution_count": 2,
     "metadata": {},
     "output_type": "execute_result"
    }
   ],
   "source": [
    "data = pd.read_csv('heart.csv')\n",
    "data.head()"
   ]
  },
  {
   "cell_type": "markdown",
   "metadata": {
    "id": "RP1FKWLqAhjr"
   },
   "source": [
    "# Making Copy of the Data"
   ]
  },
  {
   "cell_type": "code",
   "execution_count": 3,
   "metadata": {
    "id": "liW3qdez_7HS"
   },
   "outputs": [],
   "source": [
    "df = data.copy()"
   ]
  },
  {
   "cell_type": "code",
   "execution_count": 4,
   "metadata": {
    "colab": {
     "base_uri": "https://localhost:8080/",
     "height": 206
    },
    "id": "LGSGDB0X_7Mi",
    "outputId": "c5d24d3a-c210-4a40-9abc-9ac2f0855bcb"
   },
   "outputs": [
    {
     "data": {
      "text/html": [
       "<div>\n",
       "<style scoped>\n",
       "    .dataframe tbody tr th:only-of-type {\n",
       "        vertical-align: middle;\n",
       "    }\n",
       "\n",
       "    .dataframe tbody tr th {\n",
       "        vertical-align: top;\n",
       "    }\n",
       "\n",
       "    .dataframe thead th {\n",
       "        text-align: right;\n",
       "    }\n",
       "</style>\n",
       "<table border=\"1\" class=\"dataframe\">\n",
       "  <thead>\n",
       "    <tr style=\"text-align: right;\">\n",
       "      <th></th>\n",
       "      <th>age</th>\n",
       "      <th>sex</th>\n",
       "      <th>cp</th>\n",
       "      <th>trtbps</th>\n",
       "      <th>chol</th>\n",
       "      <th>fbs</th>\n",
       "      <th>restecg</th>\n",
       "      <th>thalachh</th>\n",
       "      <th>exng</th>\n",
       "      <th>oldpeak</th>\n",
       "      <th>slp</th>\n",
       "      <th>caa</th>\n",
       "      <th>thall</th>\n",
       "      <th>output</th>\n",
       "    </tr>\n",
       "  </thead>\n",
       "  <tbody>\n",
       "    <tr>\n",
       "      <th>0</th>\n",
       "      <td>63</td>\n",
       "      <td>1</td>\n",
       "      <td>3</td>\n",
       "      <td>145</td>\n",
       "      <td>233</td>\n",
       "      <td>1</td>\n",
       "      <td>0</td>\n",
       "      <td>150</td>\n",
       "      <td>0</td>\n",
       "      <td>2.3</td>\n",
       "      <td>0</td>\n",
       "      <td>0</td>\n",
       "      <td>1</td>\n",
       "      <td>1</td>\n",
       "    </tr>\n",
       "    <tr>\n",
       "      <th>1</th>\n",
       "      <td>37</td>\n",
       "      <td>1</td>\n",
       "      <td>2</td>\n",
       "      <td>130</td>\n",
       "      <td>250</td>\n",
       "      <td>0</td>\n",
       "      <td>1</td>\n",
       "      <td>187</td>\n",
       "      <td>0</td>\n",
       "      <td>3.5</td>\n",
       "      <td>0</td>\n",
       "      <td>0</td>\n",
       "      <td>2</td>\n",
       "      <td>1</td>\n",
       "    </tr>\n",
       "    <tr>\n",
       "      <th>2</th>\n",
       "      <td>41</td>\n",
       "      <td>0</td>\n",
       "      <td>1</td>\n",
       "      <td>130</td>\n",
       "      <td>204</td>\n",
       "      <td>0</td>\n",
       "      <td>0</td>\n",
       "      <td>172</td>\n",
       "      <td>0</td>\n",
       "      <td>1.4</td>\n",
       "      <td>2</td>\n",
       "      <td>0</td>\n",
       "      <td>2</td>\n",
       "      <td>1</td>\n",
       "    </tr>\n",
       "    <tr>\n",
       "      <th>3</th>\n",
       "      <td>56</td>\n",
       "      <td>1</td>\n",
       "      <td>1</td>\n",
       "      <td>120</td>\n",
       "      <td>236</td>\n",
       "      <td>0</td>\n",
       "      <td>1</td>\n",
       "      <td>178</td>\n",
       "      <td>0</td>\n",
       "      <td>0.8</td>\n",
       "      <td>2</td>\n",
       "      <td>0</td>\n",
       "      <td>2</td>\n",
       "      <td>1</td>\n",
       "    </tr>\n",
       "    <tr>\n",
       "      <th>4</th>\n",
       "      <td>57</td>\n",
       "      <td>0</td>\n",
       "      <td>0</td>\n",
       "      <td>120</td>\n",
       "      <td>354</td>\n",
       "      <td>0</td>\n",
       "      <td>1</td>\n",
       "      <td>163</td>\n",
       "      <td>1</td>\n",
       "      <td>0.6</td>\n",
       "      <td>2</td>\n",
       "      <td>0</td>\n",
       "      <td>2</td>\n",
       "      <td>1</td>\n",
       "    </tr>\n",
       "  </tbody>\n",
       "</table>\n",
       "</div>"
      ],
      "text/plain": [
       "   age  sex  cp  trtbps  chol  fbs  restecg  thalachh  exng  oldpeak  slp  \\\n",
       "0   63    1   3     145   233    1        0       150     0      2.3    0   \n",
       "1   37    1   2     130   250    0        1       187     0      3.5    0   \n",
       "2   41    0   1     130   204    0        0       172     0      1.4    2   \n",
       "3   56    1   1     120   236    0        1       178     0      0.8    2   \n",
       "4   57    0   0     120   354    0        1       163     1      0.6    2   \n",
       "\n",
       "   caa  thall  output  \n",
       "0    0      1       1  \n",
       "1    0      2       1  \n",
       "2    0      2       1  \n",
       "3    0      2       1  \n",
       "4    0      2       1  "
      ]
     },
     "execution_count": 4,
     "metadata": {},
     "output_type": "execute_result"
    }
   ],
   "source": [
    "df.head()"
   ]
  },
  {
   "cell_type": "code",
   "execution_count": 5,
   "metadata": {
    "colab": {
     "base_uri": "https://localhost:8080/"
    },
    "id": "U2rWu6Pr_7UQ",
    "outputId": "fbbf7f7a-4547-432c-9fac-c73dd33420a6"
   },
   "outputs": [
    {
     "name": "stdout",
     "output_type": "stream",
     "text": [
      "<class 'pandas.core.frame.DataFrame'>\n",
      "RangeIndex: 303 entries, 0 to 302\n",
      "Data columns (total 14 columns):\n",
      " #   Column    Non-Null Count  Dtype  \n",
      "---  ------    --------------  -----  \n",
      " 0   age       303 non-null    int64  \n",
      " 1   sex       303 non-null    int64  \n",
      " 2   cp        303 non-null    int64  \n",
      " 3   trtbps    303 non-null    int64  \n",
      " 4   chol      303 non-null    int64  \n",
      " 5   fbs       303 non-null    int64  \n",
      " 6   restecg   303 non-null    int64  \n",
      " 7   thalachh  303 non-null    int64  \n",
      " 8   exng      303 non-null    int64  \n",
      " 9   oldpeak   303 non-null    float64\n",
      " 10  slp       303 non-null    int64  \n",
      " 11  caa       303 non-null    int64  \n",
      " 12  thall     303 non-null    int64  \n",
      " 13  output    303 non-null    int64  \n",
      "dtypes: float64(1), int64(13)\n",
      "memory usage: 33.3 KB\n"
     ]
    }
   ],
   "source": [
    "df.info()"
   ]
  },
  {
   "cell_type": "markdown",
   "metadata": {
    "id": "elsLmU-RFnJG"
   },
   "source": [
    "###  Renaming attributes label with meaningful name"
   ]
  },
  {
   "cell_type": "code",
   "execution_count": 6,
   "metadata": {
    "colab": {
     "base_uri": "https://localhost:8080/"
    },
    "id": "5wNPp6A7FxGY",
    "outputId": "5b35dbd2-f619-4f84-d1ba-259f5662dd4f"
   },
   "outputs": [
    {
     "data": {
      "text/plain": [
       "Index(['age', 'sex', 'cp', 'trtbps', 'chol', 'fbs', 'restecg', 'thalachh',\n",
       "       'exng', 'oldpeak', 'slp', 'caa', 'thall', 'output'],\n",
       "      dtype='object')"
      ]
     },
     "execution_count": 6,
     "metadata": {},
     "output_type": "execute_result"
    }
   ],
   "source": [
    "df.columns"
   ]
  },
  {
   "cell_type": "code",
   "execution_count": 7,
   "metadata": {
    "id": "q1h_QSH6_7Xb"
   },
   "outputs": [],
   "source": [
    "df.rename(columns = {'cp' : 'ChestPainType', 'trtbps' : 'BloodPressure', 'chol' : 'cholestoral', 'fbs' : 'Bloodsugar', 'restecg' : 'ECG',\n",
    "                     'thalachh' : 'Max_heartrate','exng' : 'Ex_Pain',\n",
    "                     'slp' : 'slope', 'caa' : 'No_of_vassels', 'thall' : 'Thalassemia', 'output' : 'Target'}, inplace = True)"
   ]
  },
  {
   "cell_type": "code",
   "execution_count": 8,
   "metadata": {
    "colab": {
     "base_uri": "https://localhost:8080/"
    },
    "id": "LRoc4jIg_7aT",
    "outputId": "8f3f0ded-812a-455d-e620-88b1223d49c3"
   },
   "outputs": [
    {
     "name": "stdout",
     "output_type": "stream",
     "text": [
      "<class 'pandas.core.frame.DataFrame'>\n",
      "RangeIndex: 303 entries, 0 to 302\n",
      "Data columns (total 14 columns):\n",
      " #   Column         Non-Null Count  Dtype  \n",
      "---  ------         --------------  -----  \n",
      " 0   age            303 non-null    int64  \n",
      " 1   sex            303 non-null    int64  \n",
      " 2   ChestPainType  303 non-null    int64  \n",
      " 3   BloodPressure  303 non-null    int64  \n",
      " 4   cholestoral    303 non-null    int64  \n",
      " 5   Bloodsugar     303 non-null    int64  \n",
      " 6   ECG            303 non-null    int64  \n",
      " 7   Max_heartrate  303 non-null    int64  \n",
      " 8   Ex_Pain        303 non-null    int64  \n",
      " 9   oldpeak        303 non-null    float64\n",
      " 10  slope          303 non-null    int64  \n",
      " 11  No_of_vassels  303 non-null    int64  \n",
      " 12  Thalassemia    303 non-null    int64  \n",
      " 13  Target         303 non-null    int64  \n",
      "dtypes: float64(1), int64(13)\n",
      "memory usage: 33.3 KB\n"
     ]
    }
   ],
   "source": [
    "df.info()"
   ]
  },
  {
   "cell_type": "markdown",
   "metadata": {
    "id": "y_WcqHxlOY-N"
   },
   "source": [
    "# **Exploratory Data Analysis**"
   ]
  },
  {
   "cell_type": "markdown",
   "metadata": {
    "id": "CwmDGMqaO-M-"
   },
   "source": [
    "### Checking for the Shape"
   ]
  },
  {
   "cell_type": "code",
   "execution_count": 9,
   "metadata": {
    "colab": {
     "base_uri": "https://localhost:8080/"
    },
    "id": "QL07QBzu_7da",
    "outputId": "81b0e531-a720-478e-bad3-6cc6389e3728"
   },
   "outputs": [
    {
     "data": {
      "text/plain": [
       "(303, 14)"
      ]
     },
     "execution_count": 9,
     "metadata": {},
     "output_type": "execute_result"
    }
   ],
   "source": [
    "df.shape"
   ]
  },
  {
   "cell_type": "markdown",
   "metadata": {
    "id": "bF8v2kzmPEAi"
   },
   "source": [
    "### Checking for the Numerical Summary"
   ]
  },
  {
   "cell_type": "code",
   "execution_count": 10,
   "metadata": {
    "colab": {
     "base_uri": "https://localhost:8080/",
     "height": 488
    },
    "id": "UQprnDUA_7f8",
    "outputId": "9bb373fb-da93-488c-d70c-fb41b9e94690"
   },
   "outputs": [
    {
     "data": {
      "text/html": [
       "<div>\n",
       "<style scoped>\n",
       "    .dataframe tbody tr th:only-of-type {\n",
       "        vertical-align: middle;\n",
       "    }\n",
       "\n",
       "    .dataframe tbody tr th {\n",
       "        vertical-align: top;\n",
       "    }\n",
       "\n",
       "    .dataframe thead th {\n",
       "        text-align: right;\n",
       "    }\n",
       "</style>\n",
       "<table border=\"1\" class=\"dataframe\">\n",
       "  <thead>\n",
       "    <tr style=\"text-align: right;\">\n",
       "      <th></th>\n",
       "      <th>count</th>\n",
       "      <th>mean</th>\n",
       "      <th>std</th>\n",
       "      <th>min</th>\n",
       "      <th>25%</th>\n",
       "      <th>50%</th>\n",
       "      <th>75%</th>\n",
       "      <th>max</th>\n",
       "    </tr>\n",
       "  </thead>\n",
       "  <tbody>\n",
       "    <tr>\n",
       "      <th>age</th>\n",
       "      <td>303.0</td>\n",
       "      <td>54.366337</td>\n",
       "      <td>9.082101</td>\n",
       "      <td>29.0</td>\n",
       "      <td>47.5</td>\n",
       "      <td>55.0</td>\n",
       "      <td>61.0</td>\n",
       "      <td>77.0</td>\n",
       "    </tr>\n",
       "    <tr>\n",
       "      <th>sex</th>\n",
       "      <td>303.0</td>\n",
       "      <td>0.683168</td>\n",
       "      <td>0.466011</td>\n",
       "      <td>0.0</td>\n",
       "      <td>0.0</td>\n",
       "      <td>1.0</td>\n",
       "      <td>1.0</td>\n",
       "      <td>1.0</td>\n",
       "    </tr>\n",
       "    <tr>\n",
       "      <th>ChestPainType</th>\n",
       "      <td>303.0</td>\n",
       "      <td>0.966997</td>\n",
       "      <td>1.032052</td>\n",
       "      <td>0.0</td>\n",
       "      <td>0.0</td>\n",
       "      <td>1.0</td>\n",
       "      <td>2.0</td>\n",
       "      <td>3.0</td>\n",
       "    </tr>\n",
       "    <tr>\n",
       "      <th>BloodPressure</th>\n",
       "      <td>303.0</td>\n",
       "      <td>131.623762</td>\n",
       "      <td>17.538143</td>\n",
       "      <td>94.0</td>\n",
       "      <td>120.0</td>\n",
       "      <td>130.0</td>\n",
       "      <td>140.0</td>\n",
       "      <td>200.0</td>\n",
       "    </tr>\n",
       "    <tr>\n",
       "      <th>cholestoral</th>\n",
       "      <td>303.0</td>\n",
       "      <td>246.264026</td>\n",
       "      <td>51.830751</td>\n",
       "      <td>126.0</td>\n",
       "      <td>211.0</td>\n",
       "      <td>240.0</td>\n",
       "      <td>274.5</td>\n",
       "      <td>564.0</td>\n",
       "    </tr>\n",
       "    <tr>\n",
       "      <th>Bloodsugar</th>\n",
       "      <td>303.0</td>\n",
       "      <td>0.148515</td>\n",
       "      <td>0.356198</td>\n",
       "      <td>0.0</td>\n",
       "      <td>0.0</td>\n",
       "      <td>0.0</td>\n",
       "      <td>0.0</td>\n",
       "      <td>1.0</td>\n",
       "    </tr>\n",
       "    <tr>\n",
       "      <th>ECG</th>\n",
       "      <td>303.0</td>\n",
       "      <td>0.528053</td>\n",
       "      <td>0.525860</td>\n",
       "      <td>0.0</td>\n",
       "      <td>0.0</td>\n",
       "      <td>1.0</td>\n",
       "      <td>1.0</td>\n",
       "      <td>2.0</td>\n",
       "    </tr>\n",
       "    <tr>\n",
       "      <th>Max_heartrate</th>\n",
       "      <td>303.0</td>\n",
       "      <td>149.646865</td>\n",
       "      <td>22.905161</td>\n",
       "      <td>71.0</td>\n",
       "      <td>133.5</td>\n",
       "      <td>153.0</td>\n",
       "      <td>166.0</td>\n",
       "      <td>202.0</td>\n",
       "    </tr>\n",
       "    <tr>\n",
       "      <th>Ex_Pain</th>\n",
       "      <td>303.0</td>\n",
       "      <td>0.326733</td>\n",
       "      <td>0.469794</td>\n",
       "      <td>0.0</td>\n",
       "      <td>0.0</td>\n",
       "      <td>0.0</td>\n",
       "      <td>1.0</td>\n",
       "      <td>1.0</td>\n",
       "    </tr>\n",
       "    <tr>\n",
       "      <th>oldpeak</th>\n",
       "      <td>303.0</td>\n",
       "      <td>1.039604</td>\n",
       "      <td>1.161075</td>\n",
       "      <td>0.0</td>\n",
       "      <td>0.0</td>\n",
       "      <td>0.8</td>\n",
       "      <td>1.6</td>\n",
       "      <td>6.2</td>\n",
       "    </tr>\n",
       "    <tr>\n",
       "      <th>slope</th>\n",
       "      <td>303.0</td>\n",
       "      <td>1.399340</td>\n",
       "      <td>0.616226</td>\n",
       "      <td>0.0</td>\n",
       "      <td>1.0</td>\n",
       "      <td>1.0</td>\n",
       "      <td>2.0</td>\n",
       "      <td>2.0</td>\n",
       "    </tr>\n",
       "    <tr>\n",
       "      <th>No_of_vassels</th>\n",
       "      <td>303.0</td>\n",
       "      <td>0.729373</td>\n",
       "      <td>1.022606</td>\n",
       "      <td>0.0</td>\n",
       "      <td>0.0</td>\n",
       "      <td>0.0</td>\n",
       "      <td>1.0</td>\n",
       "      <td>4.0</td>\n",
       "    </tr>\n",
       "    <tr>\n",
       "      <th>Thalassemia</th>\n",
       "      <td>303.0</td>\n",
       "      <td>2.313531</td>\n",
       "      <td>0.612277</td>\n",
       "      <td>0.0</td>\n",
       "      <td>2.0</td>\n",
       "      <td>2.0</td>\n",
       "      <td>3.0</td>\n",
       "      <td>3.0</td>\n",
       "    </tr>\n",
       "    <tr>\n",
       "      <th>Target</th>\n",
       "      <td>303.0</td>\n",
       "      <td>0.544554</td>\n",
       "      <td>0.498835</td>\n",
       "      <td>0.0</td>\n",
       "      <td>0.0</td>\n",
       "      <td>1.0</td>\n",
       "      <td>1.0</td>\n",
       "      <td>1.0</td>\n",
       "    </tr>\n",
       "  </tbody>\n",
       "</table>\n",
       "</div>"
      ],
      "text/plain": [
       "               count        mean        std    min    25%    50%    75%    max\n",
       "age            303.0   54.366337   9.082101   29.0   47.5   55.0   61.0   77.0\n",
       "sex            303.0    0.683168   0.466011    0.0    0.0    1.0    1.0    1.0\n",
       "ChestPainType  303.0    0.966997   1.032052    0.0    0.0    1.0    2.0    3.0\n",
       "BloodPressure  303.0  131.623762  17.538143   94.0  120.0  130.0  140.0  200.0\n",
       "cholestoral    303.0  246.264026  51.830751  126.0  211.0  240.0  274.5  564.0\n",
       "Bloodsugar     303.0    0.148515   0.356198    0.0    0.0    0.0    0.0    1.0\n",
       "ECG            303.0    0.528053   0.525860    0.0    0.0    1.0    1.0    2.0\n",
       "Max_heartrate  303.0  149.646865  22.905161   71.0  133.5  153.0  166.0  202.0\n",
       "Ex_Pain        303.0    0.326733   0.469794    0.0    0.0    0.0    1.0    1.0\n",
       "oldpeak        303.0    1.039604   1.161075    0.0    0.0    0.8    1.6    6.2\n",
       "slope          303.0    1.399340   0.616226    0.0    1.0    1.0    2.0    2.0\n",
       "No_of_vassels  303.0    0.729373   1.022606    0.0    0.0    0.0    1.0    4.0\n",
       "Thalassemia    303.0    2.313531   0.612277    0.0    2.0    2.0    3.0    3.0\n",
       "Target         303.0    0.544554   0.498835    0.0    0.0    1.0    1.0    1.0"
      ]
     },
     "execution_count": 10,
     "metadata": {},
     "output_type": "execute_result"
    }
   ],
   "source": [
    "df.describe().T"
   ]
  },
  {
   "cell_type": "markdown",
   "metadata": {
    "id": "oBjYXz0vPLmZ"
   },
   "source": [
    "### Checking for Missing Values"
   ]
  },
  {
   "cell_type": "code",
   "execution_count": 11,
   "metadata": {
    "colab": {
     "base_uri": "https://localhost:8080/"
    },
    "id": "LzrX7JNO_7it",
    "outputId": "002ce8a2-e797-45cd-bef2-116aee06be99"
   },
   "outputs": [
    {
     "data": {
      "text/plain": [
       "age              0\n",
       "sex              0\n",
       "ChestPainType    0\n",
       "BloodPressure    0\n",
       "cholestoral      0\n",
       "Bloodsugar       0\n",
       "ECG              0\n",
       "Max_heartrate    0\n",
       "Ex_Pain          0\n",
       "oldpeak          0\n",
       "slope            0\n",
       "No_of_vassels    0\n",
       "Thalassemia      0\n",
       "Target           0\n",
       "dtype: int64"
      ]
     },
     "execution_count": 11,
     "metadata": {},
     "output_type": "execute_result"
    }
   ],
   "source": [
    "df.isnull().sum()"
   ]
  },
  {
   "cell_type": "markdown",
   "metadata": {
    "id": "EiM50dgsPMZx"
   },
   "source": [
    "### Checking for Duplicates"
   ]
  },
  {
   "cell_type": "code",
   "execution_count": 12,
   "metadata": {
    "colab": {
     "base_uri": "https://localhost:8080/",
     "height": 89
    },
    "id": "K03fJ31K_7ln",
    "outputId": "1f3d9240-df82-4902-df69-de0a82e57835"
   },
   "outputs": [
    {
     "data": {
      "text/html": [
       "<div>\n",
       "<style scoped>\n",
       "    .dataframe tbody tr th:only-of-type {\n",
       "        vertical-align: middle;\n",
       "    }\n",
       "\n",
       "    .dataframe tbody tr th {\n",
       "        vertical-align: top;\n",
       "    }\n",
       "\n",
       "    .dataframe thead th {\n",
       "        text-align: right;\n",
       "    }\n",
       "</style>\n",
       "<table border=\"1\" class=\"dataframe\">\n",
       "  <thead>\n",
       "    <tr style=\"text-align: right;\">\n",
       "      <th></th>\n",
       "      <th>age</th>\n",
       "      <th>sex</th>\n",
       "      <th>ChestPainType</th>\n",
       "      <th>BloodPressure</th>\n",
       "      <th>cholestoral</th>\n",
       "      <th>Bloodsugar</th>\n",
       "      <th>ECG</th>\n",
       "      <th>Max_heartrate</th>\n",
       "      <th>Ex_Pain</th>\n",
       "      <th>oldpeak</th>\n",
       "      <th>slope</th>\n",
       "      <th>No_of_vassels</th>\n",
       "      <th>Thalassemia</th>\n",
       "      <th>Target</th>\n",
       "    </tr>\n",
       "  </thead>\n",
       "  <tbody>\n",
       "    <tr>\n",
       "      <th>164</th>\n",
       "      <td>38</td>\n",
       "      <td>1</td>\n",
       "      <td>2</td>\n",
       "      <td>138</td>\n",
       "      <td>175</td>\n",
       "      <td>0</td>\n",
       "      <td>1</td>\n",
       "      <td>173</td>\n",
       "      <td>0</td>\n",
       "      <td>0.0</td>\n",
       "      <td>2</td>\n",
       "      <td>4</td>\n",
       "      <td>2</td>\n",
       "      <td>1</td>\n",
       "    </tr>\n",
       "  </tbody>\n",
       "</table>\n",
       "</div>"
      ],
      "text/plain": [
       "     age  sex  ChestPainType  BloodPressure  cholestoral  Bloodsugar  ECG  \\\n",
       "164   38    1              2            138          175           0    1   \n",
       "\n",
       "     Max_heartrate  Ex_Pain  oldpeak  slope  No_of_vassels  Thalassemia  \\\n",
       "164            173        0      0.0      2              4            2   \n",
       "\n",
       "     Target  \n",
       "164       1  "
      ]
     },
     "execution_count": 12,
     "metadata": {},
     "output_type": "execute_result"
    }
   ],
   "source": [
    "dup = df[df.duplicated()]\n",
    "dup"
   ]
  },
  {
   "cell_type": "markdown",
   "metadata": {
    "id": "EdpJqroDScZ6"
   },
   "source": [
    "### Dropping the duplicate rows (In this dataset, we have only one duplicate row)"
   ]
  },
  {
   "cell_type": "code",
   "execution_count": 13,
   "metadata": {
    "colab": {
     "base_uri": "https://localhost:8080/"
    },
    "id": "JjHx1zSH_7oM",
    "outputId": "28522716-24f7-43a7-aa44-0cb8432fe30f"
   },
   "outputs": [
    {
     "data": {
      "text/plain": [
       "(303, 14)"
      ]
     },
     "execution_count": 13,
     "metadata": {},
     "output_type": "execute_result"
    }
   ],
   "source": [
    "df.shape"
   ]
  },
  {
   "cell_type": "code",
   "execution_count": 14,
   "metadata": {
    "colab": {
     "base_uri": "https://localhost:8080/"
    },
    "id": "5z7qyVq4_7q6",
    "outputId": "c8f0d46b-1cc1-44aa-be03-a3ecf54f6ddd"
   },
   "outputs": [
    {
     "data": {
      "text/plain": [
       "(302, 14)"
      ]
     },
     "execution_count": 14,
     "metadata": {},
     "output_type": "execute_result"
    }
   ],
   "source": [
    "df = df.drop_duplicates()\n",
    "df.shape"
   ]
  },
  {
   "cell_type": "markdown",
   "metadata": {
    "id": "a_30fVbHS0J5"
   },
   "source": [
    "## **UNIVARIATE ANALYSIS**"
   ]
  },
  {
   "cell_type": "markdown",
   "metadata": {
    "id": "aBFHMX7pS7mW"
   },
   "source": [
    "**1. AGE**"
   ]
  },
  {
   "cell_type": "markdown",
   "metadata": {
    "id": "nwP0OJ54UKnd"
   },
   "source": [
    "Checking Distribution"
   ]
  },
  {
   "cell_type": "code",
   "execution_count": 15,
   "metadata": {
    "colab": {
     "base_uri": "https://localhost:8080/",
     "height": 449
    },
    "id": "4goi6ATb_7uq",
    "outputId": "80975e10-a7e4-40dd-d36b-ad78bbc31f16"
   },
   "outputs": [
    {
     "data": {
      "image/png": "[encoded data removed]",
      "text/plain": [
       "<Figure size 640x480 with 1 Axes>"
      ]
     },
     "metadata": {},
     "output_type": "display_data"
    }
   ],
   "source": [
    "sns.distplot(df.age);\n",
    "plt.savefig('Age.png')"
   ]
  },
  {
   "cell_type": "markdown",
   "metadata": {
    "id": "VfX_D-5zbQVx"
   },
   "source": [
    "checking for Outliers"
   ]
  },
  {
   "cell_type": "code",
   "execution_count": 16,
   "metadata": {
    "colab": {
     "base_uri": "https://localhost:8080/",
     "height": 430
    },
    "id": "3_mVZzugbUHK",
    "outputId": "bd8ed258-37b3-40f3-9b9d-604815c73cef"
   },
   "outputs": [
    {
     "data": {
      "image/png": "[encoded data removed]",
      "text/plain": [
       "<Figure size 640x480 with 1 Axes>"
      ]
     },
     "metadata": {},
     "output_type": "display_data"
    }
   ],
   "source": [
    "sns.boxplot(y = 'age',data = df);"
   ]
  },
  {
   "cell_type": "markdown",
   "metadata": {
    "id": "w1peE_MgUQLa"
   },
   "source": [
    "Checking Skewness"
   ]
  },
  {
   "cell_type": "code",
   "execution_count": 17,
   "metadata": {
    "colab": {
     "base_uri": "https://localhost:8080/"
    },
    "id": "WCTwfjLs_7w7",
    "outputId": "51b93540-691c-4deb-db12-86a14036d26a"
   },
   "outputs": [
    {
     "data": {
      "text/plain": [
       "-0.2037432795959691"
      ]
     },
     "execution_count": 17,
     "metadata": {},
     "output_type": "execute_result"
    }
   ],
   "source": [
    "df.age.skew()"
   ]
  },
  {
   "cell_type": "markdown",
   "metadata": {
    "id": "AFvSQ4syUnJT"
   },
   "source": [
    "**2.SEX**"
   ]
  },
  {
   "cell_type": "markdown",
   "metadata": {
    "id": "X12PkNc2VoWs"
   },
   "source": [
    "Checking Counts of the Male and Female"
   ]
  },
  {
   "cell_type": "code",
   "execution_count": 18,
   "metadata": {
    "colab": {
     "base_uri": "https://localhost:8080/",
     "height": 449
    },
    "id": "PlVVbJ2l_7za",
    "outputId": "5a41bff7-3c38-400a-954a-1275b9036b69"
   },
   "outputs": [
    {
     "data": {
      "image/png": "[encoded data removed]",
      "text/plain": [
       "<Figure size 640x480 with 1 Axes>"
      ]
     },
     "metadata": {},
     "output_type": "display_data"
    }
   ],
   "source": [
    "sns.countplot(x = 'sex', data = df);\n",
    "plt.savefig('sex.png')"
   ]
  },
  {
   "cell_type": "code",
   "execution_count": 19,
   "metadata": {
    "colab": {
     "base_uri": "https://localhost:8080/"
    },
    "id": "nPihZUhJ_72H",
    "outputId": "7e61625d-bd3f-4cf2-eb68-b0869d1190c7"
   },
   "outputs": [
    {
     "data": {
      "text/plain": [
       "1    206\n",
       "0     96\n",
       "Name: sex, dtype: int64"
      ]
     },
     "execution_count": 19,
     "metadata": {},
     "output_type": "execute_result"
    }
   ],
   "source": [
    "df.sex.value_counts()"
   ]
  },
  {
   "cell_type": "code",
   "execution_count": 20,
   "metadata": {
    "colab": {
     "base_uri": "https://localhost:8080/"
    },
    "id": "ZYGPOMjP_74-",
    "outputId": "764856db-ae10-4c07-a0df-bb4064be06b0"
   },
   "outputs": [
    {
     "data": {
      "text/plain": [
       "1    0.682119\n",
       "0    0.317881\n",
       "Name: sex, dtype: float64"
      ]
     },
     "execution_count": 20,
     "metadata": {},
     "output_type": "execute_result"
    }
   ],
   "source": [
    "df.sex.value_counts(normalize = True)"
   ]
  },
  {
   "cell_type": "markdown",
   "metadata": {
    "id": "dQ7-M1okW45D"
   },
   "source": [
    "**3. Chest Pain Type**"
   ]
  },
  {
   "cell_type": "code",
   "execution_count": 21,
   "metadata": {
    "colab": {
     "base_uri": "https://localhost:8080/",
     "height": 449
    },
    "id": "p6c6_8vw_77K",
    "outputId": "d9f746ea-a07f-49fe-a7aa-13ffffe3a97c"
   },
   "outputs": [
    {
     "data": {
      "image/png": "[encoded data removed]",
      "text/plain": [
       "<Figure size 640x480 with 1 Axes>"
      ]
     },
     "metadata": {},
     "output_type": "display_data"
    }
   ],
   "source": [
    "sns.countplot(x = 'ChestPainType', data = df);\n",
    "plt.savefig('ChestPainType.png')"
   ]
  },
  {
   "cell_type": "code",
   "execution_count": 22,
   "metadata": {
    "colab": {
     "base_uri": "https://localhost:8080/"
    },
    "id": "3PAGfo3X_79Y",
    "outputId": "0e44d374-89a9-44be-dd55-cbe6e5097f42"
   },
   "outputs": [
    {
     "data": {
      "text/plain": [
       "0    143\n",
       "2     86\n",
       "1     50\n",
       "3     23\n",
       "Name: ChestPainType, dtype: int64"
      ]
     },
     "execution_count": 22,
     "metadata": {},
     "output_type": "execute_result"
    }
   ],
   "source": [
    "df['ChestPainType'].value_counts()"
   ]
  },
  {
   "cell_type": "code",
   "execution_count": 23,
   "metadata": {
    "colab": {
     "base_uri": "https://localhost:8080/"
    },
    "id": "ZB4yyfOe_7_n",
    "outputId": "5747f918-c424-43be-c4de-ac81e3b9055b"
   },
   "outputs": [
    {
     "data": {
      "text/plain": [
       "0    0.473510\n",
       "2    0.284768\n",
       "1    0.165563\n",
       "3    0.076159\n",
       "Name: ChestPainType, dtype: float64"
      ]
     },
     "execution_count": 23,
     "metadata": {},
     "output_type": "execute_result"
    }
   ],
   "source": [
    "df['ChestPainType'].value_counts(normalize = True)"
   ]
  },
  {
   "cell_type": "markdown",
   "metadata": {
    "id": "YGzv2G68YmMb"
   },
   "source": [
    "**4.BloodPressure**"
   ]
  },
  {
   "cell_type": "markdown",
   "metadata": {
    "id": "a0dJs5hhZDbm"
   },
   "source": [
    "Checking Distribution"
   ]
  },
  {
   "cell_type": "code",
   "execution_count": 24,
   "metadata": {
    "colab": {
     "base_uri": "https://localhost:8080/",
     "height": 449
    },
    "id": "IoF64iuUYzzC",
    "outputId": "6dbbf1f7-5dfc-49ac-fbab-8aa695762459"
   },
   "outputs": [
    {
     "data": {
      "image/png": "[encoded data removed]",
      "text/plain": [
       "<Figure size 640x480 with 1 Axes>"
      ]
     },
     "metadata": {},
     "output_type": "display_data"
    }
   ],
   "source": [
    "sns.distplot(df.BloodPressure);\n",
    "plt.savefig('BloodPressure.png')"
   ]
  },
  {
   "cell_type": "markdown",
   "metadata": {
    "id": "m-dyrowDbs-7"
   },
   "source": [
    "Checking for Outliers"
   ]
  },
  {
   "cell_type": "code",
   "execution_count": 25,
   "metadata": {
    "colab": {
     "base_uri": "https://localhost:8080/",
     "height": 430
    },
    "id": "cYuA1EJ-bxBx",
    "outputId": "97efac10-c8a6-4594-ad0d-806c171f8a66"
   },
   "outputs": [
    {
     "data": {
      "image/png": "[encoded data removed]",
      "text/plain": [
       "<Figure size 640x480 with 1 Axes>"
      ]
     },
     "metadata": {},
     "output_type": "display_data"
    }
   ],
   "source": [
    "sns.boxplot(y = 'BloodPressure', data = df);\n",
    "plt.savefig('BloodPressure_OUTLIERS.png')"
   ]
  },
  {
   "cell_type": "markdown",
   "metadata": {
    "id": "TZgJElgpZa2b"
   },
   "source": [
    "Checking Skewness"
   ]
  },
  {
   "cell_type": "code",
   "execution_count": 26,
   "metadata": {
    "colab": {
     "base_uri": "https://localhost:8080/"
    },
    "id": "3mdZ3gTVY0MG",
    "outputId": "339b21d3-88ac-413c-cc49-49f7ce9c38f0"
   },
   "outputs": [
    {
     "data": {
      "text/plain": [
       "0.7165414326647318"
      ]
     },
     "execution_count": 26,
     "metadata": {},
     "output_type": "execute_result"
    }
   ],
   "source": [
    "df.BloodPressure.skew()"
   ]
  },
  {
   "cell_type": "markdown",
   "metadata": {
    "id": "36eviV4hZzrj"
   },
   "source": [
    "**5. cholestoral**"
   ]
  },
  {
   "cell_type": "markdown",
   "metadata": {
    "id": "lZsaAK4ia-DI"
   },
   "source": [
    "Checking Distribution"
   ]
  },
  {
   "cell_type": "code",
   "execution_count": 27,
   "metadata": {
    "colab": {
     "base_uri": "https://localhost:8080/",
     "height": 449
    },
    "id": "s3DI-ZQQZxK7",
    "outputId": "9d40ebb5-6e61-45ab-8358-e72b1d1fc6e8"
   },
   "outputs": [
    {
     "data": {
      "image/png": "[encoded data removed]",
      "text/plain": [
       "<Figure size 640x480 with 1 Axes>"
      ]
     },
     "metadata": {},
     "output_type": "display_data"
    }
   ],
   "source": [
    "sns.distplot(df.cholestoral);\n",
    "plt.savefig('cholestoral.png')"
   ]
  },
  {
   "cell_type": "markdown",
   "metadata": {
    "id": "MzmoDi0qcdy4"
   },
   "source": [
    "Checking for Outliers"
   ]
  },
  {
   "cell_type": "code",
   "execution_count": 28,
   "metadata": {
    "colab": {
     "base_uri": "https://localhost:8080/",
     "height": 430
    },
    "id": "fw-uWYbpcONs",
    "outputId": "95e33975-f81c-4f91-e3d4-ca1b8d1614bf"
   },
   "outputs": [
    {
     "data": {
      "image/png": "[encoded data removed]",
      "text/plain": [
       "<Figure size 640x480 with 1 Axes>"
      ]
     },
     "metadata": {},
     "output_type": "display_data"
    }
   ],
   "source": [
    "sns.boxplot(y ='cholestoral', data = df);"
   ]
  },
  {
   "cell_type": "markdown",
   "metadata": {
    "id": "g_LaYxZVcLvi"
   },
   "source": [
    "Checking for Skewness"
   ]
  },
  {
   "cell_type": "code",
   "execution_count": 29,
   "metadata": {
    "colab": {
     "base_uri": "https://localhost:8080/"
    },
    "id": "iOknyuk4cgo-",
    "outputId": "85be7c49-256c-4f62-9ceb-b71f7c8fcd15"
   },
   "outputs": [
    {
     "data": {
      "text/plain": [
       "1.147332413980798"
      ]
     },
     "execution_count": 29,
     "metadata": {},
     "output_type": "execute_result"
    }
   ],
   "source": [
    "df.cholestoral.skew()"
   ]
  },
  {
   "cell_type": "markdown",
   "metadata": {
    "id": "EeqV-K1GaHjD"
   },
   "source": [
    "**6. Bloodsugar**"
   ]
  },
  {
   "cell_type": "code",
   "execution_count": 30,
   "metadata": {
    "colab": {
     "base_uri": "https://localhost:8080/",
     "height": 449
    },
    "id": "C7dYCiHPZxPf",
    "outputId": "5e0036a8-bac8-45c4-cc3d-469bf4534b87"
   },
   "outputs": [
    {
     "data": {
      "image/png": "[encoded data removed]",
      "text/plain": [
       "<Figure size 640x480 with 1 Axes>"
      ]
     },
     "metadata": {},
     "output_type": "display_data"
    }
   ],
   "source": [
    "sns.countplot(x = 'Bloodsugar', data = df);\n",
    "plt.savefig('Bloodsugar.png')"
   ]
  },
  {
   "cell_type": "code",
   "execution_count": 31,
   "metadata": {
    "colab": {
     "base_uri": "https://localhost:8080/"
    },
    "id": "7cufvsEddULo",
    "outputId": "5f84b401-7e23-4a5e-a14a-436d3bcd9236"
   },
   "outputs": [
    {
     "data": {
      "text/plain": [
       "0    257\n",
       "1     45\n",
       "Name: Bloodsugar, dtype: int64"
      ]
     },
     "execution_count": 31,
     "metadata": {},
     "output_type": "execute_result"
    }
   ],
   "source": [
    "df.Bloodsugar.value_counts()"
   ]
  },
  {
   "cell_type": "markdown",
   "metadata": {
    "id": "d_JlfN9NaNsd"
   },
   "source": [
    "**7. ECG**"
   ]
  },
  {
   "cell_type": "code",
   "execution_count": 32,
   "metadata": {
    "colab": {
     "base_uri": "https://localhost:8080/",
     "height": 449
    },
    "id": "EYHsBQpUZxXE",
    "outputId": "126657db-0656-4803-d1f5-897982fb3303"
   },
   "outputs": [
    {
     "data": {
      "image/png": "[encoded data removed]",
      "text/plain": [
       "<Figure size 640x480 with 1 Axes>"
      ]
     },
     "metadata": {},
     "output_type": "display_data"
    }
   ],
   "source": [
    "sns.countplot(x = 'ECG', data = df);\n",
    "plt.savefig('ECG.png')"
   ]
  },
  {
   "cell_type": "code",
   "execution_count": 33,
   "metadata": {
    "colab": {
     "base_uri": "https://localhost:8080/"
    },
    "id": "z2vjf9HdeCue",
    "outputId": "3fd81491-21e2-4907-8a91-fbcea29348a8"
   },
   "outputs": [
    {
     "data": {
      "text/plain": [
       "1    151\n",
       "0    147\n",
       "2      4\n",
       "Name: ECG, dtype: int64"
      ]
     },
     "execution_count": 33,
     "metadata": {},
     "output_type": "execute_result"
    }
   ],
   "source": [
    "df.ECG.value_counts()"
   ]
  },
  {
   "cell_type": "markdown",
   "metadata": {
    "id": "y2mIc1OqaSTr"
   },
   "source": [
    "**8. Max_heartrate**"
   ]
  },
  {
   "cell_type": "markdown",
   "metadata": {
    "id": "DeP9DN2-e-fs"
   },
   "source": [
    "Checking Distribution"
   ]
  },
  {
   "cell_type": "code",
   "execution_count": 34,
   "metadata": {
    "colab": {
     "base_uri": "https://localhost:8080/",
     "height": 450
    },
    "id": "f4aZJJBbaTPV",
    "outputId": "fae90501-2234-4863-dde4-04f73a0f3e54"
   },
   "outputs": [
    {
     "data": {
      "image/png": "[encoded data removed]",
      "text/plain": [
       "<Figure size 640x480 with 1 Axes>"
      ]
     },
     "metadata": {},
     "output_type": "display_data"
    }
   ],
   "source": [
    "sns.distplot(df.Max_heartrate);\n",
    "plt.savefig('Max_heartrate.png')"
   ]
  },
  {
   "cell_type": "markdown",
   "metadata": {
    "id": "WCe3sT9pfJdg"
   },
   "source": [
    "Checking for Outliers"
   ]
  },
  {
   "cell_type": "code",
   "execution_count": 35,
   "metadata": {
    "colab": {
     "base_uri": "https://localhost:8080/",
     "height": 450
    },
    "id": "-vBYcZX8fMQ4",
    "outputId": "841c5e99-8bdf-4402-e0aa-e182a64c3182"
   },
   "outputs": [
    {
     "data": {
      "image/png": "[encoded data removed]",
      "text/plain": [
       "<Figure size 640x480 with 1 Axes>"
      ]
     },
     "metadata": {},
     "output_type": "display_data"
    }
   ],
   "source": [
    "sns.boxplot(y = 'Max_heartrate', data = df);"
   ]
  },
  {
   "cell_type": "markdown",
   "metadata": {
    "id": "_Yfr5_0zfWAe"
   },
   "source": [
    "Checking for Skewness"
   ]
  },
  {
   "cell_type": "code",
   "execution_count": 36,
   "metadata": {
    "colab": {
     "base_uri": "https://localhost:8080/"
    },
    "id": "d7Tu8gXGfVm3",
    "outputId": "de7c9965-6528-409a-c7cd-2c837f0e3330"
   },
   "outputs": [
    {
     "data": {
      "text/plain": [
       "-0.5326712468229611"
      ]
     },
     "execution_count": 36,
     "metadata": {},
     "output_type": "execute_result"
    }
   ],
   "source": [
    "df['Max_heartrate'].skew()"
   ]
  },
  {
   "cell_type": "markdown",
   "metadata": {
    "id": "cSyAkn5maZ7x"
   },
   "source": [
    "**9. Ex-Pain**"
   ]
  },
  {
   "cell_type": "code",
   "execution_count": 37,
   "metadata": {
    "colab": {
     "base_uri": "https://localhost:8080/",
     "height": 450
    },
    "id": "UeSdvmGaaTTw",
    "outputId": "2aec617e-f7ab-431c-c567-2377f1ffefd1"
   },
   "outputs": [
    {
     "data": {
      "image/png": "[encoded data removed]",
      "text/plain": [
       "<Figure size 640x480 with 1 Axes>"
      ]
     },
     "metadata": {},
     "output_type": "display_data"
    }
   ],
   "source": [
    "sns.countplot(x = 'Ex_Pain',data = df);\n",
    "plt.savefig('Ex_Pain.png')"
   ]
  },
  {
   "cell_type": "code",
   "execution_count": 38,
   "metadata": {
    "colab": {
     "base_uri": "https://localhost:8080/"
    },
    "id": "fMFLxmEBgt8p",
    "outputId": "dc62cdaf-34b7-46a1-a30a-e5673c2b3f7c"
   },
   "outputs": [
    {
     "data": {
      "text/plain": [
       "0    203\n",
       "1     99\n",
       "Name: Ex_Pain, dtype: int64"
      ]
     },
     "execution_count": 38,
     "metadata": {},
     "output_type": "execute_result"
    }
   ],
   "source": [
    "df['Ex_Pain'].value_counts()"
   ]
  },
  {
   "cell_type": "markdown",
   "metadata": {
    "id": "TXnuaARAae2z"
   },
   "source": [
    "**10. No_of_vassels**"
   ]
  },
  {
   "cell_type": "code",
   "execution_count": 39,
   "metadata": {
    "colab": {
     "base_uri": "https://localhost:8080/",
     "height": 450
    },
    "id": "aJSsrfhSaTX4",
    "outputId": "55b2b471-5e94-4c1f-a079-f3fd4fc27d13"
   },
   "outputs": [
    {
     "data": {
      "image/png": "[encoded data removed]",
      "text/plain": [
       "<Figure size 640x480 with 1 Axes>"
      ]
     },
     "metadata": {},
     "output_type": "display_data"
    }
   ],
   "source": [
    "sns.countplot(x = 'No_of_vassels', data = df);\n",
    "plt.savefig('No_of_vassels.png')"
   ]
  },
  {
   "cell_type": "code",
   "execution_count": 40,
   "metadata": {
    "colab": {
     "base_uri": "https://localhost:8080/"
    },
    "id": "duurgxSEhf2k",
    "outputId": "31f35cff-d8db-43e2-8808-56f68a2b5f40"
   },
   "outputs": [
    {
     "data": {
      "text/plain": [
       "0    175\n",
       "1     65\n",
       "2     38\n",
       "3     20\n",
       "4      4\n",
       "Name: No_of_vassels, dtype: int64"
      ]
     },
     "execution_count": 40,
     "metadata": {},
     "output_type": "execute_result"
    }
   ],
   "source": [
    "df['No_of_vassels'].value_counts()"
   ]
  },
  {
   "cell_type": "markdown",
   "metadata": {
    "id": "QcnxqvvYam1a"
   },
   "source": [
    "**11. Thalassemia**"
   ]
  },
  {
   "cell_type": "code",
   "execution_count": 41,
   "metadata": {
    "colab": {
     "base_uri": "https://localhost:8080/",
     "height": 449
    },
    "id": "IS1UCd8VCT7o",
    "outputId": "6ad3e4b2-a8f4-4793-a240-deef4333610a"
   },
   "outputs": [
    {
     "data": {
      "image/png": "[encoded data removed]",
      "text/plain": [
       "<Figure size 640x480 with 1 Axes>"
      ]
     },
     "metadata": {},
     "output_type": "display_data"
    }
   ],
   "source": [
    "sns.countplot(x = 'Thalassemia', data = df);\n",
    "plt.savefig('Thalassemia.png')"
   ]
  },
  {
   "cell_type": "code",
   "execution_count": 42,
   "metadata": {
    "colab": {
     "base_uri": "https://localhost:8080/"
    },
    "id": "iovgrj6PanV6",
    "outputId": "550192d3-8159-4ae7-f308-92d2604fe177"
   },
   "outputs": [
    {
     "data": {
      "text/plain": [
       "2    165\n",
       "3    117\n",
       "1     18\n",
       "0      2\n",
       "Name: Thalassemia, dtype: int64"
      ]
     },
     "execution_count": 42,
     "metadata": {},
     "output_type": "execute_result"
    }
   ],
   "source": [
    "df['Thalassemia'].value_counts()"
   ]
  },
  {
   "cell_type": "markdown",
   "metadata": {
    "id": "QP_ReTCnarq-"
   },
   "source": [
    "**12. Target**"
   ]
  },
  {
   "cell_type": "code",
   "execution_count": 43,
   "metadata": {
    "colab": {
     "base_uri": "https://localhost:8080/",
     "height": 449
    },
    "id": "uaq5KjlWDuCv",
    "outputId": "4cdb2425-c994-42bc-e847-9b28fa6a4da6"
   },
   "outputs": [
    {
     "data": {
      "image/png": "[encoded data removed]",
      "text/plain": [
       "<Figure size 640x480 with 1 Axes>"
      ]
     },
     "metadata": {},
     "output_type": "display_data"
    }
   ],
   "source": [
    "sns.countplot(x = 'Target', data = df);\n",
    "plt.savefig('Target.png')"
   ]
  },
  {
   "cell_type": "code",
   "execution_count": 44,
   "metadata": {
    "colab": {
     "base_uri": "https://localhost:8080/"
    },
    "id": "bQ1aqb6tanaI",
    "outputId": "63ad530c-5e20-4ac4-dd80-039f4d6cb83d"
   },
   "outputs": [
    {
     "data": {
      "text/plain": [
       "1    164\n",
       "0    138\n",
       "Name: Target, dtype: int64"
      ]
     },
     "execution_count": 44,
     "metadata": {},
     "output_type": "execute_result"
    }
   ],
   "source": [
    "df.Target.value_counts()"
   ]
  },
  {
   "cell_type": "markdown",
   "metadata": {
    "id": "YLfrNV4bFCKp"
   },
   "source": [
    "# **BIVARIATE ANALYSIS**"
   ]
  },
  {
   "cell_type": "markdown",
   "metadata": {
    "id": "bIE-MI4dFyR1"
   },
   "source": [
    "**1. TARGET vs AGE**"
   ]
  },
  {
   "cell_type": "markdown",
   "metadata": {
    "id": "Wn9VMSadPoSA"
   },
   "source": [
    "Visualizing Boxplot to observe the variation in means of age accross Target(Heart Disease)"
   ]
  },
  {
   "cell_type": "code",
   "execution_count": 45,
   "metadata": {
    "colab": {
     "base_uri": "https://localhost:8080/",
     "height": 449
    },
    "id": "nKUKykz7FvRt",
    "outputId": "0573cf20-e2db-45cf-f32f-96df77174965"
   },
   "outputs": [
    {
     "data": {
      "image/png": "[encoded data removed]",
      "text/plain": [
       "<Figure size 640x480 with 1 Axes>"
      ]
     },
     "metadata": {},
     "output_type": "display_data"
    }
   ],
   "source": [
    "sns.boxplot(x='Target', y='age', data=df);\n",
    "plt.savefig('TargetVSAge.png')"
   ]
  },
  {
   "cell_type": "markdown",
   "metadata": {
    "id": "1GQRlbhtQH-1"
   },
   "source": [
    "Checking for Pointbiserial correlation coefficient"
   ]
  },
  {
   "cell_type": "code",
   "execution_count": 46,
   "metadata": {
    "colab": {
     "base_uri": "https://localhost:8080/"
    },
    "id": "8FHBrpiCG_bf",
    "outputId": "469f7eef-f77c-4687-f6d6-a476bda62bc2"
   },
   "outputs": [
    {
     "data": {
      "text/plain": [
       "PointbiserialrResult(correlation=-0.22147582776656216, pvalue=0.00010394837285416585)"
      ]
     },
     "execution_count": 46,
     "metadata": {},
     "output_type": "execute_result"
    }
   ],
   "source": [
    "from scipy.stats import pointbiserialr\n",
    "\n",
    "result = pointbiserialr(df['Target'], df['age'])\n",
    "result\n"
   ]
  },
  {
   "cell_type": "markdown",
   "metadata": {
    "id": "TXG1UjZ4QSOh"
   },
   "source": [
    "Checking the relation using ANOVA"
   ]
  },
  {
   "cell_type": "code",
   "execution_count": 47,
   "metadata": {
    "colab": {
     "base_uri": "https://localhost:8080/"
    },
    "id": "H94Y9tlZG_ei",
    "outputId": "36c1194d-5092-4493-f5dc-32a72a4ed088"
   },
   "outputs": [
    {
     "data": {
      "text/plain": [
       "F_onewayResult(statistic=10675.801467178899, pvalue=0.0)"
      ]
     },
     "execution_count": 47,
     "metadata": {},
     "output_type": "execute_result"
    }
   ],
   "source": [
    "from scipy.stats import f_oneway\n",
    "\n",
    "result = f_oneway(df['Target'], df['age'])\n",
    "result\n"
   ]
  },
  {
   "cell_type": "markdown",
   "metadata": {
    "id": "YxJd4kjxRqFG"
   },
   "source": [
    "**2. TARGET vs BloodPressure**"
   ]
  },
  {
   "cell_type": "code",
   "execution_count": 48,
   "metadata": {
    "colab": {
     "base_uri": "https://localhost:8080/",
     "height": 449
    },
    "id": "CrrVlj9HG_hh",
    "outputId": "0cf4b404-688b-46f0-a489-43a57d34b195"
   },
   "outputs": [
    {
     "data": {
      "image/png": "[encoded data removed]",
      "text/plain": [
       "<Figure size 640x480 with 1 Axes>"
      ]
     },
     "metadata": {},
     "output_type": "display_data"
    }
   ],
   "source": [
    "sns.boxplot(x = 'Target', y = 'BloodPressure', data = df);\n",
    "plt.savefig('TargetVSBloodPressure.png')"
   ]
  },
  {
   "cell_type": "code",
   "execution_count": 49,
   "metadata": {
    "colab": {
     "base_uri": "https://localhost:8080/"
    },
    "id": "T11G7aXKG_kW",
    "outputId": "b7782be6-ae37-42d6-cb3d-ca8d13cb8dfd"
   },
   "outputs": [
    {
     "data": {
      "text/plain": [
       "F_onewayResult(statistic=16802.63353429235, pvalue=0.0)"
      ]
     },
     "execution_count": 49,
     "metadata": {},
     "output_type": "execute_result"
    }
   ],
   "source": [
    "Anova  = f_oneway(df['Target'],df['BloodPressure'])\n",
    "Anova"
   ]
  },
  {
   "cell_type": "code",
   "execution_count": 50,
   "metadata": {
    "colab": {
     "base_uri": "https://localhost:8080/"
    },
    "id": "TiSHkUlxG_n5",
    "outputId": "294dc4d8-490f-4149-8763-e72ee1469e4c"
   },
   "outputs": [
    {
     "data": {
      "text/plain": [
       "PointbiserialrResult(correlation=-0.14626866384155449, pvalue=0.010926538861948852)"
      ]
     },
     "execution_count": 50,
     "metadata": {},
     "output_type": "execute_result"
    }
   ],
   "source": [
    "Pointbiserial = pointbiserialr(df['Target'],df['BloodPressure'])\n",
    "Pointbiserial\n"
   ]
  },
  {
   "cell_type": "markdown",
   "metadata": {
    "id": "Z7mwQUfyTjkN"
   },
   "source": [
    "**3. TARGET vs Bloodsugar**"
   ]
  },
  {
   "cell_type": "code",
   "execution_count": 51,
   "metadata": {
    "colab": {
     "base_uri": "https://localhost:8080/",
     "height": 449
    },
    "id": "ahnCSFHkG_sR",
    "outputId": "27d44725-b2e9-4892-d7ff-32cc2e562cb3"
   },
   "outputs": [
    {
     "data": {
      "image/png": "[encoded data removed]",
      "text/plain": [
       "<Figure size 640x480 with 1 Axes>"
      ]
     },
     "metadata": {},
     "output_type": "display_data"
    }
   ],
   "source": [
    "sns.boxplot(x = 'Target', y = 'Bloodsugar', data = df);\n",
    "plt.savefig('TargetVSBloodsugar.png')"
   ]
  },
  {
   "cell_type": "code",
   "execution_count": 52,
   "metadata": {
    "colab": {
     "base_uri": "https://localhost:8080/"
    },
    "id": "Kj848Y-HTgwK",
    "outputId": "07430046-c9e4-4ca1-a9fe-b6a945f7f184"
   },
   "outputs": [
    {
     "data": {
      "text/plain": [
       "F_onewayResult(statistic=124.64429628329971, pvalue=1.959031201755257e-26)"
      ]
     },
     "execution_count": 52,
     "metadata": {},
     "output_type": "execute_result"
    }
   ],
   "source": [
    "Anova = f_oneway(df['Target'], df['Bloodsugar'])\n",
    "Anova"
   ]
  },
  {
   "cell_type": "code",
   "execution_count": 53,
   "metadata": {
    "colab": {
     "base_uri": "https://localhost:8080/"
    },
    "id": "uDIHJBY3Tg22",
    "outputId": "51dfbcd6-5bf6-4ea7-a7d5-ba9cdab49b24"
   },
   "outputs": [
    {
     "data": {
      "text/plain": [
       "PointbiserialrResult(correlation=-0.026825970565970247, pvalue=0.6424070490676401)"
      ]
     },
     "execution_count": 53,
     "metadata": {},
     "output_type": "execute_result"
    }
   ],
   "source": [
    "Pointbiserial = pointbiserialr(df['Target'], df['Bloodsugar'])\n",
    "Pointbiserial"
   ]
  },
  {
   "cell_type": "markdown",
   "metadata": {
    "id": "OigH9JrnWxfS"
   },
   "source": [
    "**4. TARGET vs MAX_HEARTRATE**"
   ]
  },
  {
   "cell_type": "code",
   "execution_count": 54,
   "metadata": {
    "colab": {
     "base_uri": "https://localhost:8080/",
     "height": 449
    },
    "id": "6-h4ac5rTg9-",
    "outputId": "f596009b-1bcd-43bb-82f7-83ee56d9d8e7"
   },
   "outputs": [
    {
     "data": {
      "image/png": "[encoded data removed]",
      "text/plain": [
       "<Figure size 640x480 with 1 Axes>"
      ]
     },
     "metadata": {},
     "output_type": "display_data"
    }
   ],
   "source": [
    "sns.boxplot(x = 'Target', y = 'Max_heartrate', data = df);\n",
    "plt.savefig('TargetVSMax_heartrate.png')"
   ]
  },
  {
   "cell_type": "code",
   "execution_count": 55,
   "metadata": {
    "colab": {
     "base_uri": "https://localhost:8080/"
    },
    "id": "J_Bi6eorThCo",
    "outputId": "679220ba-a8ff-4375-d214-08a8cac909c8"
   },
   "outputs": [
    {
     "data": {
      "text/plain": [
       "F_onewayResult(statistic=12779.770993985023, pvalue=0.0)"
      ]
     },
     "execution_count": 55,
     "metadata": {},
     "output_type": "execute_result"
    }
   ],
   "source": [
    "Anova = f_oneway(df['Target'], df['Max_heartrate'])\n",
    "Anova"
   ]
  },
  {
   "cell_type": "code",
   "execution_count": 56,
   "metadata": {
    "colab": {
     "base_uri": "https://localhost:8080/"
    },
    "id": "Le5iubmEThF-",
    "outputId": "513935da-c538-4d30-978d-aafcbaead334"
   },
   "outputs": [
    {
     "data": {
      "text/plain": [
       "PointbiserialrResult(correlation=0.41995504366387004, pvalue=2.4761460479234043e-14)"
      ]
     },
     "execution_count": 56,
     "metadata": {},
     "output_type": "execute_result"
    }
   ],
   "source": [
    "Pointbiserial = pointbiserialr(df['Target'], df['Max_heartrate'])\n",
    "Pointbiserial"
   ]
  },
  {
   "cell_type": "markdown",
   "metadata": {
    "id": "MZUJykJvX4EE"
   },
   "source": [
    "**5. TARGET vs Thalassemia**"
   ]
  },
  {
   "cell_type": "code",
   "execution_count": 57,
   "metadata": {
    "id": "1Tw5-_DEThJT"
   },
   "outputs": [],
   "source": [
    "from scipy.stats import chi2_contingency\n",
    "\n",
    "# Create a contingency table\n",
    "contingency_table = pd.crosstab(df['Target'], df['Thalassemia'])\n",
    "\n",
    "# Perform Chi-square test\n",
    "chi2, p, _, _ = chi2_contingency(contingency_table)\n",
    "\n",
    "# Interpret the results\n",
    "# If p-value < significance level (e.g., 0.05), reject the null hypothesis of independence.\n"
   ]
  },
  {
   "cell_type": "code",
   "execution_count": 58,
   "metadata": {
    "colab": {
     "base_uri": "https://localhost:8080/"
    },
    "id": "Cc0yUuQXThOE",
    "outputId": "dd4e8488-04c3-4d15-915a-ca9d6fcc6598"
   },
   "outputs": [
    {
     "data": {
      "text/plain": [
       "(84.61031794685029, 3.146295138318122e-18)"
      ]
     },
     "execution_count": 58,
     "metadata": {},
     "output_type": "execute_result"
    }
   ],
   "source": [
    "chi2, p"
   ]
  },
  {
   "cell_type": "code",
   "execution_count": 59,
   "metadata": {
    "colab": {
     "base_uri": "https://localhost:8080/",
     "height": 143
    },
    "id": "6Ws2DCsLThRs",
    "outputId": "97cde206-b926-445c-b7e2-f92cd04b2531"
   },
   "outputs": [
    {
     "data": {
      "text/html": [
       "<div>\n",
       "<style scoped>\n",
       "    .dataframe tbody tr th:only-of-type {\n",
       "        vertical-align: middle;\n",
       "    }\n",
       "\n",
       "    .dataframe tbody tr th {\n",
       "        vertical-align: top;\n",
       "    }\n",
       "\n",
       "    .dataframe thead th {\n",
       "        text-align: right;\n",
       "    }\n",
       "</style>\n",
       "<table border=\"1\" class=\"dataframe\">\n",
       "  <thead>\n",
       "    <tr style=\"text-align: right;\">\n",
       "      <th>Thalassemia</th>\n",
       "      <th>0</th>\n",
       "      <th>1</th>\n",
       "      <th>2</th>\n",
       "      <th>3</th>\n",
       "    </tr>\n",
       "    <tr>\n",
       "      <th>Target</th>\n",
       "      <th></th>\n",
       "      <th></th>\n",
       "      <th></th>\n",
       "      <th></th>\n",
       "    </tr>\n",
       "  </thead>\n",
       "  <tbody>\n",
       "    <tr>\n",
       "      <th>0</th>\n",
       "      <td>1</td>\n",
       "      <td>12</td>\n",
       "      <td>36</td>\n",
       "      <td>89</td>\n",
       "    </tr>\n",
       "    <tr>\n",
       "      <th>1</th>\n",
       "      <td>1</td>\n",
       "      <td>6</td>\n",
       "      <td>129</td>\n",
       "      <td>28</td>\n",
       "    </tr>\n",
       "  </tbody>\n",
       "</table>\n",
       "</div>"
      ],
      "text/plain": [
       "Thalassemia  0   1    2   3\n",
       "Target                     \n",
       "0            1  12   36  89\n",
       "1            1   6  129  28"
      ]
     },
     "execution_count": 59,
     "metadata": {},
     "output_type": "execute_result"
    }
   ],
   "source": [
    "contingency_table"
   ]
  },
  {
   "cell_type": "code",
   "execution_count": 60,
   "metadata": {
    "colab": {
     "base_uri": "https://localhost:8080/",
     "height": 449
    },
    "id": "_YBHLVD9_8KO",
    "outputId": "da637f10-227d-4c97-a956-a96f63bc0b39"
   },
   "outputs": [
    {
     "data": {
      "image/png": "[encoded data removed]",
      "text/plain": [
       "<Figure size 640x480 with 1 Axes>"
      ]
     },
     "metadata": {},
     "output_type": "display_data"
    }
   ],
   "source": [
    "sns.countplot(x = 'Thalassemia',data = df,hue = 'Target');\n",
    "plt.savefig('TargetVSThalassemia.png')"
   ]
  },
  {
   "cell_type": "markdown",
   "metadata": {
    "id": "w7xzbs-klZD4"
   },
   "source": [
    "**6. TARGET vs No_of_vassels**"
   ]
  },
  {
   "cell_type": "code",
   "execution_count": 61,
   "metadata": {
    "colab": {
     "base_uri": "https://localhost:8080/"
    },
    "id": "8mME1NWs_8Sn",
    "outputId": "9dbd405f-ffb6-4278-e6b2-a95d8bacea57"
   },
   "outputs": [
    {
     "data": {
      "text/plain": [
       "(73.68984583164412, 3.771038067427657e-15)"
      ]
     },
     "execution_count": 61,
     "metadata": {},
     "output_type": "execute_result"
    }
   ],
   "source": [
    "# Create a contingency table\n",
    "contingency_table = pd.crosstab(df['Target'], df['No_of_vassels'])\n",
    "\n",
    "# Perform Chi-square test\n",
    "chi2, p, _, _ = chi2_contingency(contingency_table)\n",
    "\n",
    "chi2, p"
   ]
  },
  {
   "cell_type": "code",
   "execution_count": 62,
   "metadata": {
    "colab": {
     "base_uri": "https://localhost:8080/",
     "height": 143
    },
    "id": "wb4SdzlznGFh",
    "outputId": "0c7a95d0-8327-49e2-b446-9ac7c0769337"
   },
   "outputs": [
    {
     "data": {
      "text/html": [
       "<div>\n",
       "<style scoped>\n",
       "    .dataframe tbody tr th:only-of-type {\n",
       "        vertical-align: middle;\n",
       "    }\n",
       "\n",
       "    .dataframe tbody tr th {\n",
       "        vertical-align: top;\n",
       "    }\n",
       "\n",
       "    .dataframe thead th {\n",
       "        text-align: right;\n",
       "    }\n",
       "</style>\n",
       "<table border=\"1\" class=\"dataframe\">\n",
       "  <thead>\n",
       "    <tr style=\"text-align: right;\">\n",
       "      <th>No_of_vassels</th>\n",
       "      <th>0</th>\n",
       "      <th>1</th>\n",
       "      <th>2</th>\n",
       "      <th>3</th>\n",
       "      <th>4</th>\n",
       "    </tr>\n",
       "    <tr>\n",
       "      <th>Target</th>\n",
       "      <th></th>\n",
       "      <th></th>\n",
       "      <th></th>\n",
       "      <th></th>\n",
       "      <th></th>\n",
       "    </tr>\n",
       "  </thead>\n",
       "  <tbody>\n",
       "    <tr>\n",
       "      <th>0</th>\n",
       "      <td>45</td>\n",
       "      <td>44</td>\n",
       "      <td>31</td>\n",
       "      <td>17</td>\n",
       "      <td>1</td>\n",
       "    </tr>\n",
       "    <tr>\n",
       "      <th>1</th>\n",
       "      <td>130</td>\n",
       "      <td>21</td>\n",
       "      <td>7</td>\n",
       "      <td>3</td>\n",
       "      <td>3</td>\n",
       "    </tr>\n",
       "  </tbody>\n",
       "</table>\n",
       "</div>"
      ],
      "text/plain": [
       "No_of_vassels    0   1   2   3  4\n",
       "Target                           \n",
       "0               45  44  31  17  1\n",
       "1              130  21   7   3  3"
      ]
     },
     "execution_count": 62,
     "metadata": {},
     "output_type": "execute_result"
    }
   ],
   "source": [
    "contingency_table"
   ]
  },
  {
   "cell_type": "code",
   "execution_count": 63,
   "metadata": {
    "colab": {
     "base_uri": "https://localhost:8080/",
     "height": 450
    },
    "id": "S7vPK3SX_8Vc",
    "outputId": "61d5ba7a-d6f9-4333-969e-3c7a92df7c3b"
   },
   "outputs": [
    {
     "data": {
      "image/png": "[encoded data removed]",
      "text/plain": [
       "<Figure size 640x480 with 1 Axes>"
      ]
     },
     "metadata": {},
     "output_type": "display_data"
    }
   ],
   "source": [
    "sns.countplot(x = 'No_of_vassels',data = df,hue = 'Target');\n",
    "plt.savefig('TargetVSNo_of_vassel.png')"
   ]
  },
  {
   "cell_type": "markdown",
   "metadata": {
    "id": "-uVI29btl8Y2"
   },
   "source": [
    "**7. TARGET vs SLOPE**"
   ]
  },
  {
   "cell_type": "code",
   "execution_count": 64,
   "metadata": {
    "colab": {
     "base_uri": "https://localhost:8080/"
    },
    "id": "oyiQ0s6z_8YQ",
    "outputId": "85d2b29c-4458-4f88-fad3-4e18c89f1577"
   },
   "outputs": [
    {
     "data": {
      "text/plain": [
       "(46.88947660161814, 6.5777827609179e-11)"
      ]
     },
     "execution_count": 64,
     "metadata": {},
     "output_type": "execute_result"
    }
   ],
   "source": [
    "contigency_table = pd.crosstab(df['Target'], df['slope'])\n",
    "\n",
    "chi2,p,_,_ = chi2_contingency(contigency_table)\n",
    "\n",
    "chi2, p"
   ]
  },
  {
   "cell_type": "code",
   "execution_count": 65,
   "metadata": {
    "colab": {
     "base_uri": "https://localhost:8080/",
     "height": 143
    },
    "id": "9LcwHJSCnUk7",
    "outputId": "b1663131-d7b6-4129-cbf8-ea5d66f90aa4"
   },
   "outputs": [
    {
     "data": {
      "text/html": [
       "<div>\n",
       "<style scoped>\n",
       "    .dataframe tbody tr th:only-of-type {\n",
       "        vertical-align: middle;\n",
       "    }\n",
       "\n",
       "    .dataframe tbody tr th {\n",
       "        vertical-align: top;\n",
       "    }\n",
       "\n",
       "    .dataframe thead th {\n",
       "        text-align: right;\n",
       "    }\n",
       "</style>\n",
       "<table border=\"1\" class=\"dataframe\">\n",
       "  <thead>\n",
       "    <tr style=\"text-align: right;\">\n",
       "      <th>slope</th>\n",
       "      <th>0</th>\n",
       "      <th>1</th>\n",
       "      <th>2</th>\n",
       "    </tr>\n",
       "    <tr>\n",
       "      <th>Target</th>\n",
       "      <th></th>\n",
       "      <th></th>\n",
       "      <th></th>\n",
       "    </tr>\n",
       "  </thead>\n",
       "  <tbody>\n",
       "    <tr>\n",
       "      <th>0</th>\n",
       "      <td>12</td>\n",
       "      <td>91</td>\n",
       "      <td>35</td>\n",
       "    </tr>\n",
       "    <tr>\n",
       "      <th>1</th>\n",
       "      <td>9</td>\n",
       "      <td>49</td>\n",
       "      <td>106</td>\n",
       "    </tr>\n",
       "  </tbody>\n",
       "</table>\n",
       "</div>"
      ],
      "text/plain": [
       "slope    0   1    2\n",
       "Target             \n",
       "0       12  91   35\n",
       "1        9  49  106"
      ]
     },
     "execution_count": 65,
     "metadata": {},
     "output_type": "execute_result"
    }
   ],
   "source": [
    "contigency_table"
   ]
  },
  {
   "cell_type": "code",
   "execution_count": 66,
   "metadata": {
    "colab": {
     "base_uri": "https://localhost:8080/",
     "height": 449
    },
    "id": "3cSy-tsX_8a8",
    "outputId": "133d7314-5d7e-4367-ee6f-2871b01e7c71"
   },
   "outputs": [
    {
     "data": {
      "image/png": "[encoded data removed]",
      "text/plain": [
       "<Figure size 640x480 with 1 Axes>"
      ]
     },
     "metadata": {},
     "output_type": "display_data"
    }
   ],
   "source": [
    "sns.countplot(x = 'slope', data = df, hue = 'Target');\n",
    "plt.savefig('TargetVSslope.png')"
   ]
  },
  {
   "cell_type": "markdown",
   "metadata": {
    "id": "oI0OtnKCnslE"
   },
   "source": [
    "# **MULTIVARIATE ANALYSIS**"
   ]
  },
  {
   "cell_type": "markdown",
   "metadata": {
    "id": "pUVz6JMkBcmf"
   },
   "source": [
    "Creating a heatmap to visualize the correlation matrix"
   ]
  },
  {
   "cell_type": "code",
   "execution_count": 67,
   "metadata": {
    "colab": {
     "base_uri": "https://localhost:8080/",
     "height": 486
    },
    "id": "lCK1l1xF_8rk",
    "outputId": "2d3bc26d-57bd-4574-cddc-8aa9afafbc62"
   },
   "outputs": [
    {
     "data": {
      "image/png": "[encoded data removed]",
      "text/plain": [
       "<Figure size 1800x500 with 2 Axes>"
      ]
     },
     "metadata": {},
     "output_type": "display_data"
    }
   ],
   "source": [
    "correlation_matrix = df.corr()\n",
    "plt.figure(figsize=(18,5))\n",
    "sns.heatmap(correlation_matrix, annot=True, cmap='coolwarm', fmt='.2f')\n",
    "plt.savefig('Multivariate.png')\n",
    "plt.show()"
   ]
  },
  {
   "cell_type": "code",
   "execution_count": 68,
   "metadata": {},
   "outputs": [
    {
     "data": {
      "text/plain": [
       "Index(['age', 'sex', 'ChestPainType', 'BloodPressure', 'cholestoral',\n",
       "       'Bloodsugar', 'ECG', 'Max_heartrate', 'Ex_Pain', 'oldpeak', 'slope',\n",
       "       'No_of_vassels', 'Thalassemia', 'Target'],\n",
       "      dtype='object')"
      ]
     },
     "execution_count": 68,
     "metadata": {},
     "output_type": "execute_result"
    }
   ],
   "source": [
    "df.columns"
   ]
  },
  {
   "cell_type": "markdown",
   "metadata": {},
   "source": [
    "\n",
    "Performing Hypothesis Testing to analyse the relationship among Dependent and Independent Variables.\n",
    "\n",
    "H(O):There is no any relationship among Dependent and Independent Variables.\n",
    "\n",
    "H(A):There exists a strong relationship among Dependent and Independent Variables.\n",
    "\n",
    "Taking Level of Significance (ALPHA) = 0.05\n",
    "\n",
    "I will reject the Null Hypothesis for those variables having p-value less than alpha, signifying association existing among them.\n",
    "\n"
   ]
  },
  {
   "cell_type": "code",
   "execution_count": 69,
   "metadata": {},
   "outputs": [],
   "source": [
    "import statsmodels.formula.api as smf"
   ]
  },
  {
   "cell_type": "code",
   "execution_count": 70,
   "metadata": {},
   "outputs": [],
   "source": [
    "Model = smf.ols(\n",
    "    formula = 'Target ~ age + sex + ChestPainType + BloodPressure + cholestoral + Bloodsugar + ECG + Max_heartrate + Ex_Pain + oldpeak + slope + No_of_vassels + Thalassemia' , data = df)"
   ]
  },
  {
   "cell_type": "code",
   "execution_count": 71,
   "metadata": {},
   "outputs": [],
   "source": [
    "Result = Model.fit()"
   ]
  },
  {
   "cell_type": "code",
   "execution_count": 72,
   "metadata": {},
   "outputs": [
    {
     "name": "stdout",
     "output_type": "stream",
     "text": [
      "                            OLS Regression Results                            \n",
      "==============================================================================\n",
      "Dep. Variable:                 Target   R-squared:                       0.519\n",
      "Model:                            OLS   Adj. R-squared:                  0.497\n",
      "Method:                 Least Squares   F-statistic:                     23.88\n",
      "Date:                Mon, 15 Jan 2024   Prob (F-statistic):           1.48e-38\n",
      "Time:                        20:17:07   Log-Likelihood:                -107.62\n",
      "No. Observations:                 302   AIC:                             243.2\n",
      "Df Residuals:                     288   BIC:                             295.2\n",
      "Df Model:                          13                                         \n",
      "Covariance Type:            nonrobust                                         \n",
      "=================================================================================\n",
      "                    coef    std err          t      P>|t|      [0.025      0.975]\n",
      "---------------------------------------------------------------------------------\n",
      "Intercept         0.8156      0.293      2.785      0.006       0.239       1.392\n",
      "age              -0.0004      0.003     -0.145      0.885      -0.006       0.005\n",
      "sex              -0.1965      0.047     -4.172      0.000      -0.289      -0.104\n",
      "ChestPainType     0.1108      0.022      4.941      0.000       0.067       0.155\n",
      "BloodPressure    -0.0021      0.001     -1.664      0.097      -0.005       0.000\n",
      "cholestoral      -0.0003      0.000     -0.773      0.440      -0.001       0.001\n",
      "Bloodsugar        0.0218      0.060      0.365      0.715      -0.096       0.139\n",
      "ECG               0.0478      0.040      1.197      0.232      -0.031       0.126\n",
      "Max_heartrate     0.0030      0.001      2.662      0.008       0.001       0.005\n",
      "Ex_Pain          -0.1444      0.051     -2.814      0.005      -0.245      -0.043\n",
      "oldpeak          -0.0572      0.023     -2.494      0.013      -0.102      -0.012\n",
      "slope             0.0790      0.042      1.866      0.063      -0.004       0.162\n",
      "No_of_vassels    -0.1075      0.023     -4.771      0.000      -0.152      -0.063\n",
      "Thalassemia      -0.1175      0.036     -3.296      0.001      -0.188      -0.047\n",
      "==============================================================================\n",
      "Omnibus:                        6.439   Durbin-Watson:                   1.032\n",
      "Prob(Omnibus):                  0.040   Jarque-Bera (JB):                6.626\n",
      "Skew:                          -0.354   Prob(JB):                       0.0364\n",
      "Kurtosis:                       2.840   Cond. No.                     4.67e+03\n",
      "==============================================================================\n",
      "\n",
      "Notes:\n",
      "[1] Standard Errors assume that the covariance matrix of the errors is correctly specified.\n",
      "[2] The condition number is large, 4.67e+03. This might indicate that there are\n",
      "strong multicollinearity or other numerical problems.\n"
     ]
    }
   ],
   "source": [
    "print(Result.summary())"
   ]
  },
  {
   "cell_type": "markdown",
   "metadata": {},
   "source": [
    "'''\n",
    "Variables which are having statistically significant relationships are as follows:\n",
    "1)sex\n",
    "2)ChestPainType \n",
    "3)Max_heartrate \n",
    "4)Ex_Pain \n",
    "5)oldpeak \n",
    "6)No_of_vassels \n",
    "7)Thalassemia\n",
    "'''"
   ]
  },
  {
   "cell_type": "code",
   "execution_count": 73,
   "metadata": {},
   "outputs": [
    {
     "name": "stdout",
     "output_type": "stream",
     "text": [
      "                            OLS Regression Results                            \n",
      "==============================================================================\n",
      "Dep. Variable:                 Target   R-squared:                       0.502\n",
      "Model:                            OLS   Adj. R-squared:                  0.490\n",
      "Method:                 Least Squares   F-statistic:                     42.32\n",
      "Date:                Mon, 15 Jan 2024   Prob (F-statistic):           4.69e-41\n",
      "Time:                        20:17:07   Log-Likelihood:                -112.82\n",
      "No. Observations:                 302   AIC:                             241.6\n",
      "Df Residuals:                     294   BIC:                             271.3\n",
      "Df Model:                           7                                         \n",
      "Covariance Type:            nonrobust                                         \n",
      "=================================================================================\n",
      "                    coef    std err          t      P>|t|      [0.025      0.975]\n",
      "---------------------------------------------------------------------------------\n",
      "Intercept         0.5488      0.180      3.046      0.003       0.194       0.903\n",
      "sex              -0.1789      0.045     -3.934      0.000      -0.268      -0.089\n",
      "ChestPainType     0.1074      0.022      4.832      0.000       0.064       0.151\n",
      "Max_heartrate     0.0034      0.001      3.343      0.001       0.001       0.005\n",
      "Ex_Pain          -0.1581      0.051     -3.088      0.002      -0.259      -0.057\n",
      "oldpeak          -0.0859      0.020     -4.376      0.000      -0.125      -0.047\n",
      "No_of_vassels    -0.1094      0.022     -5.055      0.000      -0.152      -0.067\n",
      "Thalassemia      -0.1215      0.036     -3.418      0.001      -0.192      -0.052\n",
      "==============================================================================\n",
      "Omnibus:                        7.328   Durbin-Watson:                   1.017\n",
      "Prob(Omnibus):                  0.026   Jarque-Bera (JB):                7.518\n",
      "Skew:                          -0.385   Prob(JB):                       0.0233\n",
      "Kurtosis:                       2.930   Cond. No.                     1.34e+03\n",
      "==============================================================================\n",
      "\n",
      "Notes:\n",
      "[1] Standard Errors assume that the covariance matrix of the errors is correctly specified.\n",
      "[2] The condition number is large, 1.34e+03. This might indicate that there are\n",
      "strong multicollinearity or other numerical problems.\n"
     ]
    }
   ],
   "source": [
    "Model3 = smf.ols(\n",
    "    formula = 'Target ~  sex + ChestPainType + Max_heartrate + Ex_Pain + oldpeak  + No_of_vassels + Thalassemia' , data = df)\n",
    "\n",
    "Result = Model3.fit()\n",
    "print(Result.summary())"
   ]
  },
  {
   "cell_type": "markdown",
   "metadata": {
    "id": "IHuMsuFGLD6B"
   },
   "source": [
    "# Preprocessing data for Logistic Regrassion\n"
   ]
  },
  {
   "cell_type": "code",
   "execution_count": 74,
   "metadata": {},
   "outputs": [
    {
     "data": {
      "text/plain": [
       "Index(['age', 'sex', 'ChestPainType', 'BloodPressure', 'cholestoral',\n",
       "       'Bloodsugar', 'ECG', 'Max_heartrate', 'Ex_Pain', 'oldpeak', 'slope',\n",
       "       'No_of_vassels', 'Thalassemia', 'Target'],\n",
       "      dtype='object')"
      ]
     },
     "execution_count": 74,
     "metadata": {},
     "output_type": "execute_result"
    }
   ],
   "source": [
    "df.columns"
   ]
  },
  {
   "cell_type": "markdown",
   "metadata": {},
   "source": [
    "## Creating DataFrame of only those independent variables those are having association with Target Variables."
   ]
  },
  {
   "cell_type": "code",
   "execution_count": 75,
   "metadata": {
    "id": "zgZd1mYx_866"
   },
   "outputs": [],
   "source": [
    "df = df[['sex', 'ChestPainType',\n",
    "       'Max_heartrate', 'Ex_Pain', 'oldpeak',\n",
    "       'No_of_vassels', 'Thalassemia', 'Target']]"
   ]
  },
  {
   "cell_type": "code",
   "execution_count": 76,
   "metadata": {
    "id": "aUdyBENM_8_5"
   },
   "outputs": [
    {
     "data": {
      "text/plain": [
       "(302, 8)"
      ]
     },
     "execution_count": 76,
     "metadata": {},
     "output_type": "execute_result"
    }
   ],
   "source": [
    "df.shape"
   ]
  },
  {
   "cell_type": "code",
   "execution_count": 77,
   "metadata": {
    "id": "MLf_GOj-_9FJ"
   },
   "outputs": [
    {
     "data": {
      "text/html": [
       "<div>\n",
       "<style scoped>\n",
       "    .dataframe tbody tr th:only-of-type {\n",
       "        vertical-align: middle;\n",
       "    }\n",
       "\n",
       "    .dataframe tbody tr th {\n",
       "        vertical-align: top;\n",
       "    }\n",
       "\n",
       "    .dataframe thead th {\n",
       "        text-align: right;\n",
       "    }\n",
       "</style>\n",
       "<table border=\"1\" class=\"dataframe\">\n",
       "  <thead>\n",
       "    <tr style=\"text-align: right;\">\n",
       "      <th></th>\n",
       "      <th>sex</th>\n",
       "      <th>ChestPainType</th>\n",
       "      <th>Max_heartrate</th>\n",
       "      <th>Ex_Pain</th>\n",
       "      <th>oldpeak</th>\n",
       "      <th>No_of_vassels</th>\n",
       "      <th>Thalassemia</th>\n",
       "      <th>Target</th>\n",
       "    </tr>\n",
       "  </thead>\n",
       "  <tbody>\n",
       "    <tr>\n",
       "      <th>0</th>\n",
       "      <td>1</td>\n",
       "      <td>3</td>\n",
       "      <td>150</td>\n",
       "      <td>0</td>\n",
       "      <td>2.3</td>\n",
       "      <td>0</td>\n",
       "      <td>1</td>\n",
       "      <td>1</td>\n",
       "    </tr>\n",
       "    <tr>\n",
       "      <th>1</th>\n",
       "      <td>1</td>\n",
       "      <td>2</td>\n",
       "      <td>187</td>\n",
       "      <td>0</td>\n",
       "      <td>3.5</td>\n",
       "      <td>0</td>\n",
       "      <td>2</td>\n",
       "      <td>1</td>\n",
       "    </tr>\n",
       "    <tr>\n",
       "      <th>2</th>\n",
       "      <td>0</td>\n",
       "      <td>1</td>\n",
       "      <td>172</td>\n",
       "      <td>0</td>\n",
       "      <td>1.4</td>\n",
       "      <td>0</td>\n",
       "      <td>2</td>\n",
       "      <td>1</td>\n",
       "    </tr>\n",
       "    <tr>\n",
       "      <th>3</th>\n",
       "      <td>1</td>\n",
       "      <td>1</td>\n",
       "      <td>178</td>\n",
       "      <td>0</td>\n",
       "      <td>0.8</td>\n",
       "      <td>0</td>\n",
       "      <td>2</td>\n",
       "      <td>1</td>\n",
       "    </tr>\n",
       "    <tr>\n",
       "      <th>4</th>\n",
       "      <td>0</td>\n",
       "      <td>0</td>\n",
       "      <td>163</td>\n",
       "      <td>1</td>\n",
       "      <td>0.6</td>\n",
       "      <td>0</td>\n",
       "      <td>2</td>\n",
       "      <td>1</td>\n",
       "    </tr>\n",
       "  </tbody>\n",
       "</table>\n",
       "</div>"
      ],
      "text/plain": [
       "   sex  ChestPainType  Max_heartrate  Ex_Pain  oldpeak  No_of_vassels  \\\n",
       "0    1              3            150        0      2.3              0   \n",
       "1    1              2            187        0      3.5              0   \n",
       "2    0              1            172        0      1.4              0   \n",
       "3    1              1            178        0      0.8              0   \n",
       "4    0              0            163        1      0.6              0   \n",
       "\n",
       "   Thalassemia  Target  \n",
       "0            1       1  \n",
       "1            2       1  \n",
       "2            2       1  \n",
       "3            2       1  \n",
       "4            2       1  "
      ]
     },
     "execution_count": 77,
     "metadata": {},
     "output_type": "execute_result"
    }
   ],
   "source": [
    "df.head()"
   ]
  },
  {
   "cell_type": "markdown",
   "metadata": {
    "id": "DoNP83Az_9KV"
   },
   "source": [
    "## Splitting Data"
   ]
  },
  {
   "cell_type": "code",
   "execution_count": 78,
   "metadata": {},
   "outputs": [],
   "source": [
    "X = df.iloc[:,0:6]\n",
    "y = df.iloc[:,-1]"
   ]
  },
  {
   "cell_type": "code",
   "execution_count": 79,
   "metadata": {},
   "outputs": [],
   "source": [
    "from sklearn.model_selection import train_test_split"
   ]
  },
  {
   "cell_type": "code",
   "execution_count": 80,
   "metadata": {
    "id": "wcIKYRPA_9T8"
   },
   "outputs": [],
   "source": [
    "X_train,X_test,y_train,y_test = train_test_split(X,y,test_size=0.2,random_state=78)"
   ]
  },
  {
   "cell_type": "code",
   "execution_count": 81,
   "metadata": {},
   "outputs": [
    {
     "data": {
      "text/plain": [
       "((241, 6), (61, 6), (241,), (61,))"
      ]
     },
     "execution_count": 81,
     "metadata": {},
     "output_type": "execute_result"
    }
   ],
   "source": [
    "X_train.shape,X_test.shape,y_train.shape,y_test.shape"
   ]
  },
  {
   "cell_type": "markdown",
   "metadata": {},
   "source": [
    "## Feature Scaling using MinMax Scaler"
   ]
  },
  {
   "cell_type": "code",
   "execution_count": 82,
   "metadata": {},
   "outputs": [
    {
     "data": {
      "text/html": [
       "<div>\n",
       "<style scoped>\n",
       "    .dataframe tbody tr th:only-of-type {\n",
       "        vertical-align: middle;\n",
       "    }\n",
       "\n",
       "    .dataframe tbody tr th {\n",
       "        vertical-align: top;\n",
       "    }\n",
       "\n",
       "    .dataframe thead th {\n",
       "        text-align: right;\n",
       "    }\n",
       "</style>\n",
       "<table border=\"1\" class=\"dataframe\">\n",
       "  <thead>\n",
       "    <tr style=\"text-align: right;\">\n",
       "      <th></th>\n",
       "      <th>sex</th>\n",
       "      <th>ChestPainType</th>\n",
       "      <th>Max_heartrate</th>\n",
       "      <th>Ex_Pain</th>\n",
       "      <th>oldpeak</th>\n",
       "      <th>No_of_vassels</th>\n",
       "    </tr>\n",
       "  </thead>\n",
       "  <tbody>\n",
       "    <tr>\n",
       "      <th>0</th>\n",
       "      <td>1.0</td>\n",
       "      <td>1.000000</td>\n",
       "      <td>0.847328</td>\n",
       "      <td>1.0</td>\n",
       "      <td>0.612903</td>\n",
       "      <td>0.00</td>\n",
       "    </tr>\n",
       "    <tr>\n",
       "      <th>1</th>\n",
       "      <td>0.0</td>\n",
       "      <td>0.000000</td>\n",
       "      <td>0.564885</td>\n",
       "      <td>0.0</td>\n",
       "      <td>1.000000</td>\n",
       "      <td>0.75</td>\n",
       "    </tr>\n",
       "    <tr>\n",
       "      <th>2</th>\n",
       "      <td>0.0</td>\n",
       "      <td>0.333333</td>\n",
       "      <td>0.770992</td>\n",
       "      <td>0.0</td>\n",
       "      <td>0.225806</td>\n",
       "      <td>0.00</td>\n",
       "    </tr>\n",
       "    <tr>\n",
       "      <th>3</th>\n",
       "      <td>1.0</td>\n",
       "      <td>0.666667</td>\n",
       "      <td>0.572519</td>\n",
       "      <td>0.0</td>\n",
       "      <td>0.322581</td>\n",
       "      <td>0.75</td>\n",
       "    </tr>\n",
       "    <tr>\n",
       "      <th>4</th>\n",
       "      <td>1.0</td>\n",
       "      <td>0.000000</td>\n",
       "      <td>0.557252</td>\n",
       "      <td>1.0</td>\n",
       "      <td>0.225806</td>\n",
       "      <td>0.25</td>\n",
       "    </tr>\n",
       "  </tbody>\n",
       "</table>\n",
       "</div>"
      ],
      "text/plain": [
       "   sex  ChestPainType  Max_heartrate  Ex_Pain   oldpeak  No_of_vassels\n",
       "0  1.0       1.000000       0.847328      1.0  0.612903           0.00\n",
       "1  0.0       0.000000       0.564885      0.0  1.000000           0.75\n",
       "2  0.0       0.333333       0.770992      0.0  0.225806           0.00\n",
       "3  1.0       0.666667       0.572519      0.0  0.322581           0.75\n",
       "4  1.0       0.000000       0.557252      1.0  0.225806           0.25"
      ]
     },
     "execution_count": 82,
     "metadata": {},
     "output_type": "execute_result"
    }
   ],
   "source": [
    "from sklearn.preprocessing import MinMaxScaler\n",
    "MM = MinMaxScaler()\n",
    "df_train = pd.DataFrame(MM.fit_transform(X_train),columns = X_train.columns)\n",
    "df_train.head()"
   ]
  },
  {
   "cell_type": "markdown",
   "metadata": {},
   "source": [
    "## Traing the Model using Logistic Regression"
   ]
  },
  {
   "cell_type": "code",
   "execution_count": 83,
   "metadata": {},
   "outputs": [
    {
     "data": {
      "text/plain": [
       "LogisticRegression()"
      ]
     },
     "execution_count": 83,
     "metadata": {},
     "output_type": "execute_result"
    }
   ],
   "source": [
    "from sklearn.linear_model import LogisticRegression\n",
    "clf = LogisticRegression()\n",
    "clf.fit(X_train,y_train)"
   ]
  },
  {
   "cell_type": "code",
   "execution_count": 84,
   "metadata": {},
   "outputs": [],
   "source": [
    "y_pred = clf.predict(X_train)"
   ]
  },
  {
   "cell_type": "markdown",
   "metadata": {},
   "source": [
    "## Importing Matrices "
   ]
  },
  {
   "cell_type": "code",
   "execution_count": 85,
   "metadata": {},
   "outputs": [],
   "source": [
    "from sklearn.metrics import confusion_matrix,accuracy_score,classification_report,ConfusionMatrixDisplay"
   ]
  },
  {
   "cell_type": "code",
   "execution_count": 86,
   "metadata": {},
   "outputs": [
    {
     "data": {
      "text/plain": [
       "0.8506224066390041"
      ]
     },
     "execution_count": 86,
     "metadata": {},
     "output_type": "execute_result"
    }
   ],
   "source": [
    "accuracy_score(y_train,y_pred)"
   ]
  },
  {
   "cell_type": "code",
   "execution_count": 87,
   "metadata": {},
   "outputs": [
    {
     "name": "stdout",
     "output_type": "stream",
     "text": [
      "[[ 80  23]\n",
      " [ 13 125]]\n"
     ]
    }
   ],
   "source": [
    "print(confusion_matrix(y_train,y_pred))"
   ]
  },
  {
   "cell_type": "code",
   "execution_count": 88,
   "metadata": {},
   "outputs": [
    {
     "data": {
      "image/png": "[encoded data removed]",
      "text/plain": [
       "<Figure size 640x480 with 2 Axes>"
      ]
     },
     "metadata": {},
     "output_type": "display_data"
    }
   ],
   "source": [
    "cm = confusion_matrix(y_train,y_pred)\n",
    "disp = ConfusionMatrixDisplay(confusion_matrix=cm)\n",
    "disp.plot(cmap=plt.cm.Blues);\n",
    "plt.savefig('CM_Training.png')"
   ]
  },
  {
   "cell_type": "code",
   "execution_count": 89,
   "metadata": {},
   "outputs": [
    {
     "name": "stdout",
     "output_type": "stream",
     "text": [
      "              precision    recall  f1-score   support\n",
      "\n",
      "           0       0.86      0.78      0.82       103\n",
      "           1       0.84      0.91      0.87       138\n",
      "\n",
      "    accuracy                           0.85       241\n",
      "   macro avg       0.85      0.84      0.85       241\n",
      "weighted avg       0.85      0.85      0.85       241\n",
      "\n"
     ]
    }
   ],
   "source": [
    "print(classification_report(y_train,y_pred))"
   ]
  },
  {
   "cell_type": "markdown",
   "metadata": {},
   "source": [
    "## Validating the Model with test dataset"
   ]
  },
  {
   "cell_type": "code",
   "execution_count": 90,
   "metadata": {},
   "outputs": [],
   "source": [
    "y_pred = clf.predict(X_test)"
   ]
  },
  {
   "cell_type": "code",
   "execution_count": 91,
   "metadata": {},
   "outputs": [
    {
     "data": {
      "text/plain": [
       "0.819672131147541"
      ]
     },
     "execution_count": 91,
     "metadata": {},
     "output_type": "execute_result"
    }
   ],
   "source": [
    "accuracy_score(y_test,y_pred)"
   ]
  },
  {
   "cell_type": "code",
   "execution_count": 92,
   "metadata": {},
   "outputs": [
    {
     "name": "stdout",
     "output_type": "stream",
     "text": [
      "[[28  7]\n",
      " [ 4 22]]\n"
     ]
    }
   ],
   "source": [
    "print(confusion_matrix(y_test,y_pred))"
   ]
  },
  {
   "cell_type": "code",
   "execution_count": 93,
   "metadata": {},
   "outputs": [
    {
     "data": {
      "image/png": "[encoded data removed]",
      "text/plain": [
       "<Figure size 640x480 with 2 Axes>"
      ]
     },
     "metadata": {},
     "output_type": "display_data"
    }
   ],
   "source": [
    "cm = confusion_matrix(y_test,y_pred)\n",
    "disp = ConfusionMatrixDisplay(confusion_matrix=cm)\n",
    "disp.plot(cmap=plt.cm.Blues);\n",
    "plt.savefig('CM_Test.png')"
   ]
  },
  {
   "cell_type": "code",
   "execution_count": 94,
   "metadata": {},
   "outputs": [
    {
     "name": "stdout",
     "output_type": "stream",
     "text": [
      "              precision    recall  f1-score   support\n",
      "\n",
      "           0       0.88      0.80      0.84        35\n",
      "           1       0.76      0.85      0.80        26\n",
      "\n",
      "    accuracy                           0.82        61\n",
      "   macro avg       0.82      0.82      0.82        61\n",
      "weighted avg       0.83      0.82      0.82        61\n",
      "\n"
     ]
    }
   ],
   "source": [
    "print(classification_report(y_test,y_pred))"
   ]
  },
  {
   "cell_type": "markdown",
   "metadata": {},
   "source": [
    "## Checking for Sensitivity and Specificity "
   ]
  },
  {
   "cell_type": "code",
   "execution_count": 95,
   "metadata": {},
   "outputs": [
    {
     "name": "stdout",
     "output_type": "stream",
     "text": [
      "Sensitivity :  0.875\n",
      "Specificity :  0.7586206896551724\n"
     ]
    }
   ],
   "source": [
    "confusion_matrix = cm\n",
    "total=sum(sum(confusion_matrix))\n",
    "\n",
    "sensitivity = confusion_matrix[0,0]/(confusion_matrix[0,0]+confusion_matrix[1,0])\n",
    "print('Sensitivity : ', sensitivity )\n",
    "\n",
    "specificity = confusion_matrix[1,1]/(confusion_matrix[1,1]+confusion_matrix[0,1])\n",
    "print('Specificity : ', specificity)"
   ]
  },
  {
   "cell_type": "markdown",
   "metadata": {},
   "source": [
    "## Plotting ROC - Curve"
   ]
  },
  {
   "cell_type": "code",
   "execution_count": 96,
   "metadata": {},
   "outputs": [
    {
     "data": {
      "image/png": "[encoded data removed]",
      "text/plain": [
       "<Figure size 640x480 with 1 Axes>"
      ]
     },
     "metadata": {},
     "output_type": "display_data"
    }
   ],
   "source": [
    "from sklearn.metrics import roc_curve, auc #for model evaluation\n",
    "fpr, tpr, thresholds = roc_curve(y_test, y_pred)\n",
    "\n",
    "fig, ax = plt.subplots()\n",
    "ax.plot(fpr, tpr)\n",
    "ax.plot([0, 1], [0, 1], transform=ax.transAxes, ls=\"--\", c=\".3\")\n",
    "plt.xlim([0.0, 1.0])\n",
    "plt.ylim([0.0, 1.0])\n",
    "plt.rcParams['font.size'] = 12\n",
    "plt.title('ROC Curve')\n",
    "plt.xlabel('False Positive Rate (1 - Specificity)')\n",
    "plt.ylabel('True Positive Rate (Sensitivity)')\n",
    "plt.grid(True)\n",
    "plt.savefig('ROC_CURVE.png')\n"
   ]
  },
  {
   "cell_type": "markdown",
   "metadata": {},
   "source": [
    "### Preparing Data for SQL Analysis"
   ]
  },
  {
   "cell_type": "code",
   "execution_count": 97,
   "metadata": {},
   "outputs": [
    {
     "data": {
      "text/html": [
       "<div>\n",
       "<style scoped>\n",
       "    .dataframe tbody tr th:only-of-type {\n",
       "        vertical-align: middle;\n",
       "    }\n",
       "\n",
       "    .dataframe tbody tr th {\n",
       "        vertical-align: top;\n",
       "    }\n",
       "\n",
       "    .dataframe thead th {\n",
       "        text-align: right;\n",
       "    }\n",
       "</style>\n",
       "<table border=\"1\" class=\"dataframe\">\n",
       "  <thead>\n",
       "    <tr style=\"text-align: right;\">\n",
       "      <th></th>\n",
       "      <th>sex</th>\n",
       "      <th>ChestPainType</th>\n",
       "      <th>Max_heartrate</th>\n",
       "      <th>Ex_Pain</th>\n",
       "      <th>oldpeak</th>\n",
       "      <th>No_of_vassels</th>\n",
       "      <th>Thalassemia</th>\n",
       "      <th>Target</th>\n",
       "    </tr>\n",
       "  </thead>\n",
       "  <tbody>\n",
       "    <tr>\n",
       "      <th>0</th>\n",
       "      <td>1</td>\n",
       "      <td>3</td>\n",
       "      <td>150</td>\n",
       "      <td>0</td>\n",
       "      <td>2.3</td>\n",
       "      <td>0</td>\n",
       "      <td>1</td>\n",
       "      <td>1</td>\n",
       "    </tr>\n",
       "    <tr>\n",
       "      <th>1</th>\n",
       "      <td>1</td>\n",
       "      <td>2</td>\n",
       "      <td>187</td>\n",
       "      <td>0</td>\n",
       "      <td>3.5</td>\n",
       "      <td>0</td>\n",
       "      <td>2</td>\n",
       "      <td>1</td>\n",
       "    </tr>\n",
       "    <tr>\n",
       "      <th>2</th>\n",
       "      <td>0</td>\n",
       "      <td>1</td>\n",
       "      <td>172</td>\n",
       "      <td>0</td>\n",
       "      <td>1.4</td>\n",
       "      <td>0</td>\n",
       "      <td>2</td>\n",
       "      <td>1</td>\n",
       "    </tr>\n",
       "    <tr>\n",
       "      <th>3</th>\n",
       "      <td>1</td>\n",
       "      <td>1</td>\n",
       "      <td>178</td>\n",
       "      <td>0</td>\n",
       "      <td>0.8</td>\n",
       "      <td>0</td>\n",
       "      <td>2</td>\n",
       "      <td>1</td>\n",
       "    </tr>\n",
       "    <tr>\n",
       "      <th>4</th>\n",
       "      <td>0</td>\n",
       "      <td>0</td>\n",
       "      <td>163</td>\n",
       "      <td>1</td>\n",
       "      <td>0.6</td>\n",
       "      <td>0</td>\n",
       "      <td>2</td>\n",
       "      <td>1</td>\n",
       "    </tr>\n",
       "    <tr>\n",
       "      <th>...</th>\n",
       "      <td>...</td>\n",
       "      <td>...</td>\n",
       "      <td>...</td>\n",
       "      <td>...</td>\n",
       "      <td>...</td>\n",
       "      <td>...</td>\n",
       "      <td>...</td>\n",
       "      <td>...</td>\n",
       "    </tr>\n",
       "    <tr>\n",
       "      <th>298</th>\n",
       "      <td>0</td>\n",
       "      <td>0</td>\n",
       "      <td>123</td>\n",
       "      <td>1</td>\n",
       "      <td>0.2</td>\n",
       "      <td>0</td>\n",
       "      <td>3</td>\n",
       "      <td>0</td>\n",
       "    </tr>\n",
       "    <tr>\n",
       "      <th>299</th>\n",
       "      <td>1</td>\n",
       "      <td>3</td>\n",
       "      <td>132</td>\n",
       "      <td>0</td>\n",
       "      <td>1.2</td>\n",
       "      <td>0</td>\n",
       "      <td>3</td>\n",
       "      <td>0</td>\n",
       "    </tr>\n",
       "    <tr>\n",
       "      <th>300</th>\n",
       "      <td>1</td>\n",
       "      <td>0</td>\n",
       "      <td>141</td>\n",
       "      <td>0</td>\n",
       "      <td>3.4</td>\n",
       "      <td>2</td>\n",
       "      <td>3</td>\n",
       "      <td>0</td>\n",
       "    </tr>\n",
       "    <tr>\n",
       "      <th>301</th>\n",
       "      <td>1</td>\n",
       "      <td>0</td>\n",
       "      <td>115</td>\n",
       "      <td>1</td>\n",
       "      <td>1.2</td>\n",
       "      <td>1</td>\n",
       "      <td>3</td>\n",
       "      <td>0</td>\n",
       "    </tr>\n",
       "    <tr>\n",
       "      <th>302</th>\n",
       "      <td>0</td>\n",
       "      <td>1</td>\n",
       "      <td>174</td>\n",
       "      <td>0</td>\n",
       "      <td>0.0</td>\n",
       "      <td>1</td>\n",
       "      <td>2</td>\n",
       "      <td>0</td>\n",
       "    </tr>\n",
       "  </tbody>\n",
       "</table>\n",
       "<p>302 rows × 8 columns</p>\n",
       "</div>"
      ],
      "text/plain": [
       "     sex  ChestPainType  Max_heartrate  Ex_Pain  oldpeak  No_of_vassels  \\\n",
       "0      1              3            150        0      2.3              0   \n",
       "1      1              2            187        0      3.5              0   \n",
       "2      0              1            172        0      1.4              0   \n",
       "3      1              1            178        0      0.8              0   \n",
       "4      0              0            163        1      0.6              0   \n",
       "..   ...            ...            ...      ...      ...            ...   \n",
       "298    0              0            123        1      0.2              0   \n",
       "299    1              3            132        0      1.2              0   \n",
       "300    1              0            141        0      3.4              2   \n",
       "301    1              0            115        1      1.2              1   \n",
       "302    0              1            174        0      0.0              1   \n",
       "\n",
       "     Thalassemia  Target  \n",
       "0              1       1  \n",
       "1              2       1  \n",
       "2              2       1  \n",
       "3              2       1  \n",
       "4              2       1  \n",
       "..           ...     ...  \n",
       "298            3       0  \n",
       "299            3       0  \n",
       "300            3       0  \n",
       "301            3       0  \n",
       "302            2       0  \n",
       "\n",
       "[302 rows x 8 columns]"
      ]
     },
     "execution_count": 97,
     "metadata": {},
     "output_type": "execute_result"
    }
   ],
   "source": [
    "df"
   ]
  },
  {
   "cell_type": "code",
   "execution_count": 98,
   "metadata": {},
   "outputs": [],
   "source": [
    "df['Target'] = df['Target'].replace({1: 'Heart_Patient', 0: 'Normal_Patient'})\n",
    "df['Thalassemia']       = df['Thalassemia'].replace({0: 'Fit',1: 'Normal', 2:'fixed_defect',3:'reversable_defect'})\n",
    "df['ChestPainType']     = df['ChestPainType'].replace({1: 'typical angina', 2: 'atypical_angina', 3: 'non_anginal_pain', 4: 'asymptotic'})\n",
    "df['sex']               = df['sex'].replace({1: 'Male', 0: 'Female'})\n",
    "df['Ex_Pain']           = df['Ex_Pain'].replace({1: 'Exercise_induced_angina', 0: 'Non_Exercise_induced_angina'})\n"
   ]
  },
  {
   "cell_type": "code",
   "execution_count": 99,
   "metadata": {},
   "outputs": [
    {
     "data": {
      "text/html": [
       "<div>\n",
       "<style scoped>\n",
       "    .dataframe tbody tr th:only-of-type {\n",
       "        vertical-align: middle;\n",
       "    }\n",
       "\n",
       "    .dataframe tbody tr th {\n",
       "        vertical-align: top;\n",
       "    }\n",
       "\n",
       "    .dataframe thead th {\n",
       "        text-align: right;\n",
       "    }\n",
       "</style>\n",
       "<table border=\"1\" class=\"dataframe\">\n",
       "  <thead>\n",
       "    <tr style=\"text-align: right;\">\n",
       "      <th></th>\n",
       "      <th>sex</th>\n",
       "      <th>ChestPainType</th>\n",
       "      <th>Max_heartrate</th>\n",
       "      <th>Ex_Pain</th>\n",
       "      <th>oldpeak</th>\n",
       "      <th>No_of_vassels</th>\n",
       "      <th>Thalassemia</th>\n",
       "      <th>Target</th>\n",
       "    </tr>\n",
       "  </thead>\n",
       "  <tbody>\n",
       "    <tr>\n",
       "      <th>0</th>\n",
       "      <td>Male</td>\n",
       "      <td>non_anginal_pain</td>\n",
       "      <td>150</td>\n",
       "      <td>Non_Exercise_induced_angina</td>\n",
       "      <td>2.3</td>\n",
       "      <td>0</td>\n",
       "      <td>Normal</td>\n",
       "      <td>Heart_Patient</td>\n",
       "    </tr>\n",
       "    <tr>\n",
       "      <th>1</th>\n",
       "      <td>Male</td>\n",
       "      <td>atypical_angina</td>\n",
       "      <td>187</td>\n",
       "      <td>Non_Exercise_induced_angina</td>\n",
       "      <td>3.5</td>\n",
       "      <td>0</td>\n",
       "      <td>fixed_defect</td>\n",
       "      <td>Heart_Patient</td>\n",
       "    </tr>\n",
       "    <tr>\n",
       "      <th>2</th>\n",
       "      <td>Female</td>\n",
       "      <td>typical angina</td>\n",
       "      <td>172</td>\n",
       "      <td>Non_Exercise_induced_angina</td>\n",
       "      <td>1.4</td>\n",
       "      <td>0</td>\n",
       "      <td>fixed_defect</td>\n",
       "      <td>Heart_Patient</td>\n",
       "    </tr>\n",
       "    <tr>\n",
       "      <th>3</th>\n",
       "      <td>Male</td>\n",
       "      <td>typical angina</td>\n",
       "      <td>178</td>\n",
       "      <td>Non_Exercise_induced_angina</td>\n",
       "      <td>0.8</td>\n",
       "      <td>0</td>\n",
       "      <td>fixed_defect</td>\n",
       "      <td>Heart_Patient</td>\n",
       "    </tr>\n",
       "    <tr>\n",
       "      <th>4</th>\n",
       "      <td>Female</td>\n",
       "      <td>0</td>\n",
       "      <td>163</td>\n",
       "      <td>Exercise_induced_angina</td>\n",
       "      <td>0.6</td>\n",
       "      <td>0</td>\n",
       "      <td>fixed_defect</td>\n",
       "      <td>Heart_Patient</td>\n",
       "    </tr>\n",
       "    <tr>\n",
       "      <th>...</th>\n",
       "      <td>...</td>\n",
       "      <td>...</td>\n",
       "      <td>...</td>\n",
       "      <td>...</td>\n",
       "      <td>...</td>\n",
       "      <td>...</td>\n",
       "      <td>...</td>\n",
       "      <td>...</td>\n",
       "    </tr>\n",
       "    <tr>\n",
       "      <th>298</th>\n",
       "      <td>Female</td>\n",
       "      <td>0</td>\n",
       "      <td>123</td>\n",
       "      <td>Exercise_induced_angina</td>\n",
       "      <td>0.2</td>\n",
       "      <td>0</td>\n",
       "      <td>reversable_defect</td>\n",
       "      <td>Normal_Patient</td>\n",
       "    </tr>\n",
       "    <tr>\n",
       "      <th>299</th>\n",
       "      <td>Male</td>\n",
       "      <td>non_anginal_pain</td>\n",
       "      <td>132</td>\n",
       "      <td>Non_Exercise_induced_angina</td>\n",
       "      <td>1.2</td>\n",
       "      <td>0</td>\n",
       "      <td>reversable_defect</td>\n",
       "      <td>Normal_Patient</td>\n",
       "    </tr>\n",
       "    <tr>\n",
       "      <th>300</th>\n",
       "      <td>Male</td>\n",
       "      <td>0</td>\n",
       "      <td>141</td>\n",
       "      <td>Non_Exercise_induced_angina</td>\n",
       "      <td>3.4</td>\n",
       "      <td>2</td>\n",
       "      <td>reversable_defect</td>\n",
       "      <td>Normal_Patient</td>\n",
       "    </tr>\n",
       "    <tr>\n",
       "      <th>301</th>\n",
       "      <td>Male</td>\n",
       "      <td>0</td>\n",
       "      <td>115</td>\n",
       "      <td>Exercise_induced_angina</td>\n",
       "      <td>1.2</td>\n",
       "      <td>1</td>\n",
       "      <td>reversable_defect</td>\n",
       "      <td>Normal_Patient</td>\n",
       "    </tr>\n",
       "    <tr>\n",
       "      <th>302</th>\n",
       "      <td>Female</td>\n",
       "      <td>typical angina</td>\n",
       "      <td>174</td>\n",
       "      <td>Non_Exercise_induced_angina</td>\n",
       "      <td>0.0</td>\n",
       "      <td>1</td>\n",
       "      <td>fixed_defect</td>\n",
       "      <td>Normal_Patient</td>\n",
       "    </tr>\n",
       "  </tbody>\n",
       "</table>\n",
       "<p>302 rows × 8 columns</p>\n",
       "</div>"
      ],
      "text/plain": [
       "        sex     ChestPainType  Max_heartrate                      Ex_Pain  \\\n",
       "0      Male  non_anginal_pain            150  Non_Exercise_induced_angina   \n",
       "1      Male   atypical_angina            187  Non_Exercise_induced_angina   \n",
       "2    Female    typical angina            172  Non_Exercise_induced_angina   \n",
       "3      Male    typical angina            178  Non_Exercise_induced_angina   \n",
       "4    Female                 0            163      Exercise_induced_angina   \n",
       "..      ...               ...            ...                          ...   \n",
       "298  Female                 0            123      Exercise_induced_angina   \n",
       "299    Male  non_anginal_pain            132  Non_Exercise_induced_angina   \n",
       "300    Male                 0            141  Non_Exercise_induced_angina   \n",
       "301    Male                 0            115      Exercise_induced_angina   \n",
       "302  Female    typical angina            174  Non_Exercise_induced_angina   \n",
       "\n",
       "     oldpeak  No_of_vassels        Thalassemia          Target  \n",
       "0        2.3              0             Normal   Heart_Patient  \n",
       "1        3.5              0       fixed_defect   Heart_Patient  \n",
       "2        1.4              0       fixed_defect   Heart_Patient  \n",
       "3        0.8              0       fixed_defect   Heart_Patient  \n",
       "4        0.6              0       fixed_defect   Heart_Patient  \n",
       "..       ...            ...                ...             ...  \n",
       "298      0.2              0  reversable_defect  Normal_Patient  \n",
       "299      1.2              0  reversable_defect  Normal_Patient  \n",
       "300      3.4              2  reversable_defect  Normal_Patient  \n",
       "301      1.2              1  reversable_defect  Normal_Patient  \n",
       "302      0.0              1       fixed_defect  Normal_Patient  \n",
       "\n",
       "[302 rows x 8 columns]"
      ]
     },
     "execution_count": 99,
     "metadata": {},
     "output_type": "execute_result"
    }
   ],
   "source": [
    "df"
   ]
  },
  {
   "cell_type": "code",
   "execution_count": 102,
   "metadata": {},
   "outputs": [],
   "source": [
    "file_name = 'HeartData.csv'\n",
    "df.to_csv(file_name,index = False)"
   ]
  },
  {
   "cell_type": "code",
   "execution_count": 103,
   "metadata": {},
   "outputs": [
    {
     "data": {
      "text/plain": [
       "Index(['sex', 'ChestPainType', 'Max_heartrate', 'Ex_Pain', 'oldpeak',\n",
       "       'No_of_vassels', 'Thalassemia', 'Target'],\n",
       "      dtype='object')"
      ]
     },
     "execution_count": 103,
     "metadata": {},
     "output_type": "execute_result"
    }
   ],
   "source": [
    "df.columns"
   ]
  },
  {
   "cell_type": "code",
   "execution_count": 104,
   "metadata": {},
   "outputs": [
    {
     "name": "stdout",
     "output_type": "stream",
     "text": [
      "<class 'pandas.core.frame.DataFrame'>\n",
      "Int64Index: 302 entries, 0 to 302\n",
      "Data columns (total 8 columns):\n",
      " #   Column         Non-Null Count  Dtype  \n",
      "---  ------         --------------  -----  \n",
      " 0   sex            302 non-null    object \n",
      " 1   ChestPainType  302 non-null    object \n",
      " 2   Max_heartrate  302 non-null    int64  \n",
      " 3   Ex_Pain        302 non-null    object \n",
      " 4   oldpeak        302 non-null    float64\n",
      " 5   No_of_vassels  302 non-null    int64  \n",
      " 6   Thalassemia    302 non-null    object \n",
      " 7   Target         302 non-null    object \n",
      "dtypes: float64(1), int64(2), object(5)\n",
      "memory usage: 21.2+ KB\n"
     ]
    }
   ],
   "source": [
    "df.info()"
   ]
  },
  {
   "cell_type": "code",
   "execution_count": null,
   "metadata": {},
   "outputs": [],
   "source": []
  }
 ],
 "metadata": {
  "colab": {
   "provenance": []
  },
  "kernelspec": {
   "display_name": "Python 3 (ipykernel)",
   "language": "python",
   "name": "python3"
  },
  "language_info": {
   "codemirror_mode": {
    "name": "ipython",
    "version": 3
   },
   "file_extension": ".py",
   "mimetype": "text/x-python",
   "name": "python",
   "nbconvert_exporter": "python",
   "pygments_lexer": "ipython3",
   "version": "3.9.13"
  }
 },
 "nbformat": 4,
 "nbformat_minor": 1
}
